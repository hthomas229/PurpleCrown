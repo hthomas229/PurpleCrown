{
  "nbformat": 4,
  "nbformat_minor": 0,
  "metadata": {
    "colab": {
      "provenance": [],
      "authorship_tag": "ABX9TyOEt1Ulc62Z1bXACTOyi2Ma",
      "include_colab_link": true
    },
    "kernelspec": {
      "name": "python3",
      "display_name": "Python 3"
    },
    "language_info": {
      "name": "python"
    }
  },
  "cells": [
    {
      "cell_type": "markdown",
      "metadata": {
        "id": "view-in-github",
        "colab_type": "text"
      },
      "source": [
        "<a href=\"https://colab.research.google.com/github/hthomas229/PurpleCrown/blob/main/heap.ipynb\" target=\"_parent\"><img src=\"https://colab.research.google.com/assets/colab-badge.svg\" alt=\"Open In Colab\"/></a>"
      ]
    },
    {
      "cell_type": "code",
      "execution_count": 2,
      "metadata": {
        "id": "62Wi9UbyY6SK"
      },
      "outputs": [],
      "source": [
        "import heapq"
      ]
    },
    {
      "cell_type": "markdown",
      "source": [
        "##🔹 What is a Heap? ⛰️\n",
        "\n",
        "A heap is a special kind of binary tree (think upside-down family tree).\n",
        "\n",
        "In Python, it’s usually used as a priority queue:\n",
        "\n",
        "The smallest number is always at the top.\n",
        "\n",
        "That makes it super fast to get or remove the smallest item."
      ],
      "metadata": {
        "id": "KQ-yzwAobdDX"
      }
    },
    {
      "cell_type": "markdown",
      "source": [
        "##🔹 Python’s heapq module\n",
        "\n",
        "Python gives you a built-in module called heapq.\n",
        "\n",
        "It lets you use a list as a heap."
      ],
      "metadata": {
        "id": "zCXzAe_rb1HS"
      }
    },
    {
      "cell_type": "markdown",
      "source": [
        "##🔹 Key Rules\n",
        "\n",
        "The smallest item is always at index 0.\n",
        "\n",
        "When you add (heappush) or remove (heappop), Python rearranges the list to keep the heap rule true."
      ],
      "metadata": {
        "id": "nnVseSG6b8Wf"
      }
    },
    {
      "cell_type": "markdown",
      "source": [
        "#Create a Heap ⛰️"
      ],
      "metadata": {
        "id": "1wwFzj_ba3KQ"
      }
    },
    {
      "cell_type": "markdown",
      "source": [
        "## 1. Push to an Empty List"
      ],
      "metadata": {
        "id": "nvLVPjBcaxOj"
      }
    },
    {
      "cell_type": "code",
      "source": [
        "nums = []"
      ],
      "metadata": {
        "id": "i6kUuyfwZl38"
      },
      "execution_count": 2,
      "outputs": []
    },
    {
      "cell_type": "code",
      "source": [
        "heapq.heappush(nums,2)\n",
        "heapq.heappush(nums,1)\n",
        "heapq.heappush(nums,5)\n",
        "heapq.heappush(nums,4)\n",
        "heapq.heappush(nums,3)"
      ],
      "metadata": {
        "id": "V3ft1pwqZo2H"
      },
      "execution_count": 4,
      "outputs": []
    },
    {
      "cell_type": "markdown",
      "source": [
        "This will create a heap with the smallest value always at index[0]. Even though we pushed 2 before 1."
      ],
      "metadata": {
        "id": "2mzGrEOwcfQR"
      }
    },
    {
      "cell_type": "code",
      "source": [
        "nums"
      ],
      "metadata": {
        "colab": {
          "base_uri": "https://localhost:8080/"
        },
        "id": "zV5LDuBqam0d",
        "outputId": "98781cd7-022b-431a-e64f-db53694da9fd"
      },
      "execution_count": 5,
      "outputs": [
        {
          "output_type": "execute_result",
          "data": {
            "text/plain": [
              "[1, 2, 5, 4, 3]"
            ]
          },
          "metadata": {},
          "execution_count": 5
        }
      ]
    },
    {
      "cell_type": "code",
      "source": [
        "nums[0]"
      ],
      "metadata": {
        "colab": {
          "base_uri": "https://localhost:8080/"
        },
        "id": "KLZHEwQuoj0g",
        "outputId": "ad4238ce-a671-4029-c8f5-ff5408c826a1"
      },
      "execution_count": 41,
      "outputs": [
        {
          "output_type": "execute_result",
          "data": {
            "text/plain": [
              "1"
            ]
          },
          "metadata": {},
          "execution_count": 41
        }
      ]
    },
    {
      "cell_type": "markdown",
      "source": [
        "#2.  Turn an Existing List Into a heap ⛰️  heapify\n",
        "\n"
      ],
      "metadata": {
        "id": "vHl-aaPbasr2"
      }
    },
    {
      "cell_type": "code",
      "source": [
        "nums2 = [2, 1, 5, 4, 3]"
      ],
      "metadata": {
        "id": "Yqd0bjySarpE"
      },
      "execution_count": 44,
      "outputs": []
    },
    {
      "cell_type": "code",
      "source": [
        "nums2[0]"
      ],
      "metadata": {
        "colab": {
          "base_uri": "https://localhost:8080/"
        },
        "id": "-n4l2-WjorTK",
        "outputId": "8d261e4e-c6b1-4fce-d5d7-64b8b6860c04"
      },
      "execution_count": 45,
      "outputs": [
        {
          "output_type": "execute_result",
          "data": {
            "text/plain": [
              "2"
            ]
          },
          "metadata": {},
          "execution_count": 45
        }
      ]
    },
    {
      "cell_type": "code",
      "source": [
        "heapq.heapify(nums2)"
      ],
      "metadata": {
        "id": "SSo-vBnAbTLi"
      },
      "execution_count": 49,
      "outputs": []
    },
    {
      "cell_type": "markdown",
      "source": [
        "This will ceate a heap with the smallest value always at index[0]. Even though the original list had 2 before 1."
      ],
      "metadata": {
        "id": "HZOFRmIvc-Zo"
      }
    },
    {
      "cell_type": "code",
      "source": [
        "nums2"
      ],
      "metadata": {
        "colab": {
          "base_uri": "https://localhost:8080/"
        },
        "id": "lhb3iSAjbZ9E",
        "outputId": "5a7efa75-dc3b-4b2c-b915-9e14b7621d4f"
      },
      "execution_count": 50,
      "outputs": [
        {
          "output_type": "execute_result",
          "data": {
            "text/plain": [
              "[1, 2, 5, 4, 3]"
            ]
          },
          "metadata": {},
          "execution_count": 50
        }
      ]
    },
    {
      "cell_type": "code",
      "source": [
        "nums2[0]"
      ],
      "metadata": {
        "colab": {
          "base_uri": "https://localhost:8080/"
        },
        "id": "sd___ZV0ov3U",
        "outputId": "fda2043e-573f-4e84-fbb6-9969599c9767"
      },
      "execution_count": 48,
      "outputs": [
        {
          "output_type": "execute_result",
          "data": {
            "text/plain": [
              "1"
            ]
          },
          "metadata": {},
          "execution_count": 48
        }
      ]
    },
    {
      "cell_type": "markdown",
      "source": [
        "Works with strings too -- alphabetically"
      ],
      "metadata": {
        "id": "i8YCBMNjOcsF"
      }
    },
    {
      "cell_type": "code",
      "source": [
        "people = [\"Sue\", \"Jorge\", \"Aneesha\", \"Rajiv\"]\n",
        "heapq.heapify(people)\n",
        "people"
      ],
      "metadata": {
        "colab": {
          "base_uri": "https://localhost:8080/"
        },
        "id": "x8XgjY_TOc3Q",
        "outputId": "77353030-f656-4898-d4d9-c8e1d7903ec4"
      },
      "execution_count": 3,
      "outputs": [
        {
          "output_type": "execute_result",
          "data": {
            "text/plain": [
              "['Aneesha', 'Jorge', 'Sue', 'Rajiv']"
            ]
          },
          "metadata": {},
          "execution_count": 3
        }
      ]
    },
    {
      "cell_type": "markdown",
      "source": [
        "##3. Push a New Item to an Existing Heap ⛰️ heappush"
      ],
      "metadata": {
        "id": "t4pJkcTrcJF9"
      }
    },
    {
      "cell_type": "code",
      "source": [
        "nums3 = [42, 31, 25, 89, 26, 45, 7, 90]\n",
        "heapq.heapify(nums3)\n",
        "nums3"
      ],
      "metadata": {
        "colab": {
          "base_uri": "https://localhost:8080/"
        },
        "id": "IzwzZYtKcIBH",
        "outputId": "cccfd5b9-b710-42cf-ce32-24e3fc8587bb"
      },
      "execution_count": 22,
      "outputs": [
        {
          "output_type": "execute_result",
          "data": {
            "text/plain": [
              "[7, 26, 25, 89, 31, 45, 42, 90]"
            ]
          },
          "metadata": {},
          "execution_count": 22
        }
      ]
    },
    {
      "cell_type": "code",
      "source": [
        "heapq.heappush(nums3, 3) # 3 is not at index[0]\n",
        "nums3"
      ],
      "metadata": {
        "colab": {
          "base_uri": "https://localhost:8080/"
        },
        "id": "Plhfi31hedaT",
        "outputId": "40ed84fa-4b4f-421f-a282-3dadb07aa1dd"
      },
      "execution_count": 12,
      "outputs": [
        {
          "output_type": "execute_result",
          "data": {
            "text/plain": [
              "[3, 7, 25, 26, 31, 45, 42, 90, 89]"
            ]
          },
          "metadata": {},
          "execution_count": 12
        }
      ]
    },
    {
      "cell_type": "markdown",
      "source": [
        "##4. Remove the Smallest Item in an Existing Heap ⛰️ heappop"
      ],
      "metadata": {
        "id": "4IvsAPlwfFAh"
      }
    },
    {
      "cell_type": "code",
      "source": [
        "heapq.heappop(nums3) # 3 is gone and 7 is at index[0]\n",
        "nums3"
      ],
      "metadata": {
        "colab": {
          "base_uri": "https://localhost:8080/"
        },
        "id": "Z1_gvUOvfUIC",
        "outputId": "f2927027-85d5-4de0-c975-79b720e09013"
      },
      "execution_count": 13,
      "outputs": [
        {
          "output_type": "execute_result",
          "data": {
            "text/plain": [
              "[7, 26, 25, 89, 31, 45, 42, 90]"
            ]
          },
          "metadata": {},
          "execution_count": 13
        }
      ]
    },
    {
      "cell_type": "markdown",
      "source": [
        "##5. Insert a New Item and then Remove the Smallest Item ⛰️ heappushpop"
      ],
      "metadata": {
        "id": "98-PXk-_ff8w"
      }
    },
    {
      "cell_type": "code",
      "source": [
        "heapq.heappushpop(nums3,87)  # 7 out\n"
      ],
      "metadata": {
        "colab": {
          "base_uri": "https://localhost:8080/"
        },
        "id": "gqtxfLMwfgJm",
        "outputId": "bfebdf1d-a022-45f1-f39a-2e85adff0883"
      },
      "execution_count": 23,
      "outputs": [
        {
          "output_type": "execute_result",
          "data": {
            "text/plain": [
              "7"
            ]
          },
          "metadata": {},
          "execution_count": 23
        }
      ]
    },
    {
      "cell_type": "code",
      "source": [
        "nums3 # 87 in -- notice nothing else gets sorted;"
      ],
      "metadata": {
        "colab": {
          "base_uri": "https://localhost:8080/"
        },
        "id": "-LytmAbqgi4k",
        "outputId": "038db976-53b7-4a73-8fd4-a92915912ac9"
      },
      "execution_count": 24,
      "outputs": [
        {
          "output_type": "execute_result",
          "data": {
            "text/plain": [
              "[25, 26, 42, 89, 31, 45, 87, 90]"
            ]
          },
          "metadata": {},
          "execution_count": 24
        }
      ]
    },
    {
      "cell_type": "code",
      "source": [
        "heapq.heapreplace(nums3, 27)"
      ],
      "metadata": {
        "colab": {
          "base_uri": "https://localhost:8080/"
        },
        "id": "KSjh6Vabg590",
        "outputId": "d4bec0cc-b2cf-4126-9e29-f8855c8bcf96"
      },
      "execution_count": 25,
      "outputs": [
        {
          "output_type": "execute_result",
          "data": {
            "text/plain": [
              "25"
            ]
          },
          "metadata": {},
          "execution_count": 25
        }
      ]
    },
    {
      "cell_type": "code",
      "source": [
        "nums3"
      ],
      "metadata": {
        "colab": {
          "base_uri": "https://localhost:8080/"
        },
        "id": "tv7ZFoP_hrXL",
        "outputId": "e91f8c56-41a0-4eed-8c14-39a966fd3835"
      },
      "execution_count": 26,
      "outputs": [
        {
          "output_type": "execute_result",
          "data": {
            "text/plain": [
              "[26, 27, 42, 89, 31, 45, 87, 90]"
            ]
          },
          "metadata": {},
          "execution_count": 26
        }
      ]
    },
    {
      "cell_type": "markdown",
      "metadata": {
        "id": "f988783e"
      },
      "source": [
        "## Difference between `heappushpop` and `heapreplace`\n",
        "\n",
        "*   **`heappushpop(heap, item)`**: This function first **pushes** the `item` onto the heap, and then **pops** the smallest item from the heap (which might be the item you just pushed if it's the smallest). It's equivalent to `heappush(heap, item)` followed by `heappop(heap)`. This is useful when you want to add an item and immediately get the smallest item from the resulting heap.\n",
        "\n",
        "*   **`heapreplace(heap, item)`**: This function first **pops** the smallest item from the heap, and then **pushes** the new `item` onto the heap. It's equivalent to `heappop(heap)` followed by `heappush(heap, item)`. This is useful when you want to replace the smallest item with a new one.\n",
        "\n",
        "In short:\n",
        "- `heappushpop`: push then pop\n",
        "- `heapreplace`: pop then push"
      ]
    },
    {
      "cell_type": "markdown",
      "source": [
        "##6.🔹 Useful Convenience Functions"
      ],
      "metadata": {
        "id": "JZuy6FckiR14"
      }
    },
    {
      "cell_type": "markdown",
      "source": [
        "**nlargest** -- Returns n largest itmes from the heap\n"
      ],
      "metadata": {
        "id": "NP1lMCIfim67"
      }
    },
    {
      "cell_type": "code",
      "source": [
        "heapq.nlargest(3, nums3)"
      ],
      "metadata": {
        "colab": {
          "base_uri": "https://localhost:8080/"
        },
        "id": "yumAdLxEiwUn",
        "outputId": "0afea27e-3ffb-48f0-ddee-e4d41c731e4c"
      },
      "execution_count": 28,
      "outputs": [
        {
          "output_type": "execute_result",
          "data": {
            "text/plain": [
              "[90, 89, 87]"
            ]
          },
          "metadata": {},
          "execution_count": 28
        }
      ]
    },
    {
      "cell_type": "markdown",
      "source": [
        "**nsmallest**-- Returns n smallest items from the heap"
      ],
      "metadata": {
        "id": "4TM27bNMjD8x"
      }
    },
    {
      "cell_type": "code",
      "source": [
        "heapq.nsmallest(3, nums3)"
      ],
      "metadata": {
        "colab": {
          "base_uri": "https://localhost:8080/"
        },
        "id": "kK4pey5sjGCA",
        "outputId": "07b3628a-5b15-4ce7-e2c3-f10854d3f9a4"
      },
      "execution_count": 29,
      "outputs": [
        {
          "output_type": "execute_result",
          "data": {
            "text/plain": [
              "[26, 27, 31]"
            ]
          },
          "metadata": {},
          "execution_count": 29
        }
      ]
    },
    {
      "cell_type": "markdown",
      "source": [
        "#Use Case"
      ],
      "metadata": {
        "id": "-HdJIiqtj6H2"
      }
    },
    {
      "cell_type": "markdown",
      "source": [
        "###Pull Next Item from Heap For Processing"
      ],
      "metadata": {
        "id": "PO4d7upsk1xz"
      }
    },
    {
      "cell_type": "code",
      "source": [
        "ready_to_process = [31, 42, 18, 27, 34, 22, 8]\n",
        "heapq.heapify(ready_to_process)\n",
        "\n",
        "def pull_item(heap):\n",
        "  item_number = 1\n",
        "  while heap:  # Continue as long as the heap is not empty\n",
        "    item = heapq.heappop(heap)\n",
        "    print(f\"Item {item_number} processed: {item}\")\n",
        "    item_number += 1\n",
        "  print(\"Job complete: The heap is empty.\")"
      ],
      "metadata": {
        "id": "746Ao6vxk_Hh"
      },
      "execution_count": 38,
      "outputs": []
    },
    {
      "cell_type": "code",
      "source": [
        "pull_item(ready_to_process)"
      ],
      "metadata": {
        "colab": {
          "base_uri": "https://localhost:8080/"
        },
        "id": "Q038N-RPl71M",
        "outputId": "bed92f78-92fb-4925-d634-b85a72fec907"
      },
      "execution_count": 39,
      "outputs": [
        {
          "output_type": "stream",
          "name": "stdout",
          "text": [
            "Item 1 processed: 8\n",
            "Item 2 processed: 18\n",
            "Item 3 processed: 22\n",
            "Item 4 processed: 27\n",
            "Item 5 processed: 31\n",
            "Item 6 processed: 34\n",
            "Item 7 processed: 42\n",
            "Job complete: The heap is empty.\n"
          ]
        }
      ]
    }
  ]
}