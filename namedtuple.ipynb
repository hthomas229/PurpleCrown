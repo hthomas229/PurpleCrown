{
  "nbformat": 4,
  "nbformat_minor": 0,
  "metadata": {
    "colab": {
      "provenance": [],
      "authorship_tag": "ABX9TyPFODLQ3ToYkOJI2eBG/bvp",
      "include_colab_link": true
    },
    "kernelspec": {
      "name": "python3",
      "display_name": "Python 3"
    },
    "language_info": {
      "name": "python"
    }
  },
  "cells": [
    {
      "cell_type": "markdown",
      "metadata": {
        "id": "view-in-github",
        "colab_type": "text"
      },
      "source": [
        "<a href=\"https://colab.research.google.com/github/hthomas229/PurpleCrown/blob/main/namedtuple.ipynb\" target=\"_parent\"><img src=\"https://colab.research.google.com/assets/colab-badge.svg\" alt=\"Open In Colab\"/></a>"
      ]
    },
    {
      "cell_type": "markdown",
      "source": [
        "#**namedtuple**"
      ],
      "metadata": {
        "id": "LewU0RaV6Ko3"
      }
    },
    {
      "cell_type": "markdown",
      "source": [
        "###A namedtuple is a factory function that returns a new subclass of tuple, with fields accessible by ***name*** as well as by index."
      ],
      "metadata": {
        "id": "CAVjOQgd6PDh"
      }
    },
    {
      "cell_type": "markdown",
      "source": [
        "Why use it?\n",
        "\n",
        "✅ Clearer, self-documenting code (no magic indices)\n",
        "\n",
        "✅ Lighter and faster than a full class\n",
        "\n",
        "✅ Immutable (like tuples)\n",
        "\n",
        "✅ Supports tuple unpacking"
      ],
      "metadata": {
        "id": "a2y58-bJ62Nb"
      }
    },
    {
      "cell_type": "code",
      "source": [
        "from collections import namedtuple"
      ],
      "metadata": {
        "id": "9I_IC2T67ZGM"
      },
      "execution_count": null,
      "outputs": []
    },
    {
      "cell_type": "markdown",
      "source": [
        "##Access by name or index"
      ],
      "metadata": {
        "id": "FTld0m9v8F6Z"
      }
    },
    {
      "cell_type": "code",
      "source": [
        "Food = namedtuple(\"Food\", [\"fruit\", \"dairy\", \"protein\"])\n"
      ],
      "metadata": {
        "id": "c_0YLyNC8YDK"
      },
      "execution_count": null,
      "outputs": []
    },
    {
      "cell_type": "code",
      "source": [
        "food1 = Food(\"orange\", \"cheese\", \"fish\")"
      ],
      "metadata": {
        "id": "HMKCIfxJ8lfz"
      },
      "execution_count": null,
      "outputs": []
    },
    {
      "cell_type": "code",
      "source": [
        "food1.dairy\n"
      ],
      "metadata": {
        "colab": {
          "base_uri": "https://localhost:8080/",
          "height": 36
        },
        "id": "GfW0BLtC-Pv7",
        "outputId": "c9a07c9d-e5bc-445b-f39f-5cee17fbca9f"
      },
      "execution_count": null,
      "outputs": [
        {
          "output_type": "execute_result",
          "data": {
            "text/plain": [
              "'cheese'"
            ],
            "application/vnd.google.colaboratory.intrinsic+json": {
              "type": "string"
            }
          },
          "metadata": {},
          "execution_count": 6
        }
      ]
    },
    {
      "cell_type": "code",
      "source": [
        "food1.protein"
      ],
      "metadata": {
        "colab": {
          "base_uri": "https://localhost:8080/",
          "height": 36
        },
        "id": "UNq7eCaV-q_2",
        "outputId": "837f44f9-73e7-4912-c913-66209ddce78a"
      },
      "execution_count": null,
      "outputs": [
        {
          "output_type": "execute_result",
          "data": {
            "text/plain": [
              "'fish'"
            ],
            "application/vnd.google.colaboratory.intrinsic+json": {
              "type": "string"
            }
          },
          "metadata": {},
          "execution_count": 7
        }
      ]
    },
    {
      "cell_type": "code",
      "source": [
        "food1[0]"
      ],
      "metadata": {
        "colab": {
          "base_uri": "https://localhost:8080/",
          "height": 36
        },
        "id": "Pa1PmfW--1eX",
        "outputId": "958a51a8-bf07-4c58-c946-483df451d9a4"
      },
      "execution_count": null,
      "outputs": [
        {
          "output_type": "execute_result",
          "data": {
            "text/plain": [
              "'orange'"
            ],
            "application/vnd.google.colaboratory.intrinsic+json": {
              "type": "string"
            }
          },
          "metadata": {},
          "execution_count": 8
        }
      ]
    },
    {
      "cell_type": "markdown",
      "source": [
        "##Unpack"
      ],
      "metadata": {
        "id": "VC5jsY2o_p5v"
      }
    },
    {
      "cell_type": "code",
      "source": [
        "fruit, dairy, protein = food1\n",
        "\n",
        "print(f\"Fruit: {fruit}\")\n",
        "print(f\"Dairy: {dairy}\")\n",
        "print(f\"Protein: {protein}\")"
      ],
      "metadata": {
        "colab": {
          "base_uri": "https://localhost:8080/"
        },
        "id": "sRbp1qeW_baf",
        "outputId": "1b9d5fdb-7a12-446a-94e2-714c2fe390db"
      },
      "execution_count": null,
      "outputs": [
        {
          "output_type": "stream",
          "name": "stdout",
          "text": [
            "Fruit: orange\n",
            "Dairy: cheese\n",
            "Protein: fish\n"
          ]
        }
      ]
    },
    {
      "cell_type": "markdown",
      "source": [
        "###Convert to Dictionary"
      ],
      "metadata": {
        "id": "Tlwra1yr_9Ap"
      }
    },
    {
      "cell_type": "code",
      "source": [
        "food1._asdict()"
      ],
      "metadata": {
        "colab": {
          "base_uri": "https://localhost:8080/"
        },
        "id": "6z2YX4xa_ywJ",
        "outputId": "98c49249-963c-4d2b-e2fa-2b3a1cfc267c"
      },
      "execution_count": null,
      "outputs": [
        {
          "output_type": "execute_result",
          "data": {
            "text/plain": [
              "{'fruit': 'orange', 'dairy': 'cheese', 'protein': 'fish'}"
            ]
          },
          "metadata": {},
          "execution_count": 10
        }
      ]
    },
    {
      "cell_type": "markdown",
      "source": [
        "\n",
        "\n",
        "# Create a namedtuple class\n",
        "ClassName = namedtuple('ClassName', ['field1', 'field2', 'field3'])\n",
        "\n",
        "# Alternative syntax with string\n",
        "ClassName = namedtuple('ClassName', 'field1 field2 field3')"
      ],
      "metadata": {
        "id": "MvOLoRNGXdu5"
      }
    },
    {
      "cell_type": "markdown",
      "source": [
        "##Create a small class when you don't need methods"
      ],
      "metadata": {
        "id": "0G7hiskH75oR"
      }
    },
    {
      "cell_type": "code",
      "source": [
        "Dog = namedtuple(\"Dog\", [\"name\",\"age\",\"color\"])"
      ],
      "metadata": {
        "id": "UrmxE8u57DdC"
      },
      "execution_count": null,
      "outputs": []
    },
    {
      "cell_type": "code",
      "source": [
        "dog1 = Dog(\"Maisie\", 6, \"black and white\")\n",
        "dog2 = Dog(\"Scooby Doo\", 7, \"brown\")"
      ],
      "metadata": {
        "id": "M3TIG1et6wcE"
      },
      "execution_count": null,
      "outputs": []
    },
    {
      "cell_type": "code",
      "source": [
        "dog1"
      ],
      "metadata": {
        "colab": {
          "base_uri": "https://localhost:8080/"
        },
        "id": "MgA79PzI7wVZ",
        "outputId": "fa95095f-9928-4829-8fa3-b03466768249"
      },
      "execution_count": null,
      "outputs": [
        {
          "output_type": "execute_result",
          "data": {
            "text/plain": [
              "Dog(name='Maisie', age=6, color='black and white')"
            ]
          },
          "metadata": {},
          "execution_count": 13
        }
      ]
    },
    {
      "cell_type": "code",
      "source": [
        "dog2.color"
      ],
      "metadata": {
        "colab": {
          "base_uri": "https://localhost:8080/",
          "height": 36
        },
        "id": "3IxzIFnq7zGz",
        "outputId": "75630eac-1014-4f93-e307-95fa9c206973"
      },
      "execution_count": null,
      "outputs": [
        {
          "output_type": "execute_result",
          "data": {
            "text/plain": [
              "'brown'"
            ],
            "application/vnd.google.colaboratory.intrinsic+json": {
              "type": "string"
            }
          },
          "metadata": {},
          "execution_count": 14
        }
      ]
    },
    {
      "cell_type": "markdown",
      "source": [
        "Immutability"
      ],
      "metadata": {
        "id": "jqvolGKsVta0"
      }
    },
    {
      "cell_type": "code",
      "source": [
        "Employee = namedtuple('Employee', ['name', 'department', 'salary'])\n",
        "john = Employee('John Doe', 'Engineering', 75000)\n",
        "\n",
        "# This will raise an AttributeError\n",
        "# john.salary = 80000  # Can't modify!"
      ],
      "metadata": {
        "id": "DX3ArXXpVqjk"
      },
      "execution_count": null,
      "outputs": []
    },
    {
      "cell_type": "code",
      "source": [
        "john.salary = 80000"
      ],
      "metadata": {
        "colab": {
          "base_uri": "https://localhost:8080/",
          "height": 141
        },
        "id": "V7jAyJGjPPpX",
        "outputId": "5bfcb120-dc27-4e3a-f9bd-1bb36b8884ef"
      },
      "execution_count": null,
      "outputs": [
        {
          "output_type": "error",
          "ename": "AttributeError",
          "evalue": "can't set attribute",
          "traceback": [
            "\u001b[0;31m---------------------------------------------------------------------------\u001b[0m",
            "\u001b[0;31mAttributeError\u001b[0m                            Traceback (most recent call last)",
            "\u001b[0;32m/tmp/ipython-input-3356942631.py\u001b[0m in \u001b[0;36m<cell line: 0>\u001b[0;34m()\u001b[0m\n\u001b[0;32m----> 1\u001b[0;31m \u001b[0mjohn\u001b[0m\u001b[0;34m.\u001b[0m\u001b[0msalary\u001b[0m \u001b[0;34m=\u001b[0m \u001b[0;36m80000\u001b[0m\u001b[0;34m\u001b[0m\u001b[0;34m\u001b[0m\u001b[0m\n\u001b[0m",
            "\u001b[0;31mAttributeError\u001b[0m: can't set attribute"
          ]
        }
      ]
    },
    {
      "cell_type": "markdown",
      "source": [
        "_replace method"
      ],
      "metadata": {
        "id": "GdD1jFAEVw2Z"
      }
    },
    {
      "cell_type": "code",
      "source": [
        "# Create a new instance with some fields changed\n",
        "promoted_john = john._replace(department='Senior Engineering', salary=85000)\n",
        "print(f\"Original: {john}\")\n",
        "print(f\"Promoted: {promoted_john}\")"
      ],
      "metadata": {
        "id": "qwcTOnFpV2Pm",
        "colab": {
          "base_uri": "https://localhost:8080/"
        },
        "outputId": "053edd23-e164-4c75-9ab7-bffba6408294"
      },
      "execution_count": null,
      "outputs": [
        {
          "output_type": "stream",
          "name": "stdout",
          "text": [
            "Original: Employee(name='John Doe', department='Engineering', salary=75000)\n",
            "Promoted: Employee(name='John Doe', department='Senior Engineering', salary=85000)\n"
          ]
        }
      ]
    },
    {
      "cell_type": "markdown",
      "source": [
        "_fields attribute"
      ],
      "metadata": {
        "id": "oR4wl2UoV-qS"
      }
    },
    {
      "cell_type": "code",
      "source": [
        "print(Employee._fields)  # ('name', 'department', 'salary')"
      ],
      "metadata": {
        "id": "iLOZ_1K9V9jI",
        "colab": {
          "base_uri": "https://localhost:8080/"
        },
        "outputId": "52aca211-4fc8-44b7-a9a3-daa8d9814ee6"
      },
      "execution_count": null,
      "outputs": [
        {
          "output_type": "stream",
          "name": "stdout",
          "text": [
            "('name', 'department', 'salary')\n"
          ]
        }
      ]
    },
    {
      "cell_type": "markdown",
      "source": [
        "_make() Class Method"
      ],
      "metadata": {
        "id": "zB42MB8wWKwO"
      }
    },
    {
      "cell_type": "code",
      "source": [
        "# Create class object from iterable\n",
        "employee_data = ['Jane Smith', 'Marketing', 65000]\n",
        "jane = Employee._make(employee_data)\n",
        "print(jane)"
      ],
      "metadata": {
        "id": "UNS-4DlUWJ9I",
        "colab": {
          "base_uri": "https://localhost:8080/"
        },
        "outputId": "972f010c-8684-4980-b657-1b16c0dc7f14"
      },
      "execution_count": null,
      "outputs": [
        {
          "output_type": "stream",
          "name": "stdout",
          "text": [
            "Employee(name='Jane Smith', department='Marketing', salary=65000)\n"
          ]
        }
      ]
    },
    {
      "cell_type": "markdown",
      "source": [
        "Example 1: Student Record"
      ],
      "metadata": {
        "id": "R-D7O0WiXa1M"
      }
    },
    {
      "cell_type": "code",
      "source": [
        "from collections import namedtuple\n",
        "\n",
        "# Define a Student namedtuple\n",
        "Student = namedtuple('Student', ['name', 'age', 'grade', 'student_id'])\n",
        "\n",
        "# Create instances\n",
        "alice = Student('Alice Johnson', 16, 'A', 'ST001')\n",
        "bob = Student('Bob Smith', 17, 'B+', 'ST002')\n",
        "\n",
        "# Access by name (readable)\n",
        "print(f\"Student: {alice.name}, Grade: {alice.grade}\")\n",
        "\n",
        "# Access by index (still works)\n",
        "print(f\"Student: {alice[0]}, Age: {alice[1]}\")\n",
        "\n",
        "# Unpacking works too\n",
        "name, age, grade, student_id = alice\n",
        "print(f\"{name} is {age} years old\")"
      ],
      "metadata": {
        "id": "G8cBNywu73ib",
        "colab": {
          "base_uri": "https://localhost:8080/"
        },
        "outputId": "a26f1061-c897-4cdb-9f80-ec499528e540"
      },
      "execution_count": null,
      "outputs": [
        {
          "output_type": "stream",
          "name": "stdout",
          "text": [
            "Student: Alice Johnson, Grade: A\n",
            "Student: Alice Johnson, Age: 16\n",
            "Alice Johnson is 16 years old\n"
          ]
        }
      ]
    },
    {
      "cell_type": "markdown",
      "source": [
        "Example 2: Book Information"
      ],
      "metadata": {
        "id": "qEpLRTL5XjnX"
      }
    },
    {
      "cell_type": "code",
      "source": [
        "Book = namedtuple('Book', ['title', 'author', 'year', 'isbn', 'pages'])\n",
        "\n",
        "# Create some books\n",
        "book1 = Book('1984', 'George Orwell', 1949, '978-0-452-28423-4', 328)\n",
        "book2 = Book('To Kill a Mockingbird', 'Harper Lee', 1960, '978-0-06-112008-4', 376)\n",
        "\n",
        "# Access fields\n",
        "print(f\"{book1.title} was written by {book1.author} in {book1.year}\")\n"
      ],
      "metadata": {
        "id": "tmkECpXGVok0"
      },
      "execution_count": null,
      "outputs": []
    },
    {
      "cell_type": "markdown",
      "source": [
        "Exercise 1: Restaurant Menu Item\n",
        "Create a namedtuple for restaurant menu items and perform various operations."
      ],
      "metadata": {
        "id": "WTz4VygXWLbW"
      }
    },
    {
      "cell_type": "code",
      "source": [
        "# Your task: Create a MenuItem namedtuple\n",
        "MenuItem = namedtuple('MenuItem', ['name', 'category', 'price', 'calories', 'vegetarian'])\n",
        "\n",
        "# Create menu items\n",
        "burger = MenuItem('Classic Burger', 'Main', 12.99, 650, False)\n",
        "salad = MenuItem('Caesar Salad', 'Appetizer', 8.99, 320, True)\n",
        "pasta = MenuItem('Spaghetti Carbonara', 'Main', 14.99, 580, False)\n",
        "\n",
        "# Tasks:\n",
        "# 1. Print the name and price of each item\n",
        "# 2. Create a discounted version of the burger (10% off)\n",
        "# 3. Convert the salad to a dictionary\n",
        "# 4. Find all vegetarian items from a list of menu items\n",
        "\n",
        "menu_items = [burger, salad, pasta]\n",
        "\n",
        "# Solution:\n",
        "print(\"Menu Items:\")\n",
        "for item in menu_items:\n",
        "    print(f\"{item.name}: ${item.price}\")\n",
        "\n",
        "discounted_burger = burger._replace(price=round(burger.price * 0.9, 2))\n",
        "print(f\"\\nDiscounted: {discounted_burger.name} - ${discounted_burger.price}\")\n",
        "\n",
        "print(f\"\\nSalad as dict: {salad._asdict()}\")\n",
        "\n",
        "vegetarian_items = [item for item in menu_items if item.vegetarian]\n",
        "print(f\"\\nVegetarian options: {[item.name for item in vegetarian_items]}\")"
      ],
      "metadata": {
        "id": "IuflROo7WLni"
      },
      "execution_count": null,
      "outputs": []
    },
    {
      "cell_type": "markdown",
      "source": [
        "Exercise 2: Weather Data\n",
        "Create a system to handle weather observations."
      ],
      "metadata": {
        "id": "Ih3fgWR_WLzZ"
      }
    },
    {
      "cell_type": "code",
      "source": [
        "WeatherObservation = namedtuple('WeatherObservation', [\n",
        "    'date', 'temperature', 'humidity', 'pressure', 'wind_speed', 'condition'\n",
        "])\n",
        "\n",
        "# Create weather data\n",
        "observations = [\n",
        "    WeatherObservation('2024-01-15', 22, 65, 1013.2, 8.5, 'Sunny'),\n",
        "    WeatherObservation('2024-01-16', 18, 78, 1008.1, 12.3, 'Cloudy'),\n",
        "    WeatherObservation('2024-01-17', 15, 85, 1005.5, 15.7, 'Rainy'),\n",
        "    WeatherObservation('2024-01-18', 25, 60, 1018.3, 5.2, 'Sunny'),\n",
        "]\n",
        "\n",
        "# Your tasks:\n",
        "# 1. Find the hottest day\n",
        "# 2. Calculate average humidity\n",
        "# 3. Find all rainy days\n",
        "# 4. Create a summary with just date, temperature, and condition\n",
        "\n",
        "# Solutions:\n",
        "hottest_day = max(observations, key=lambda obs: obs.temperature)\n",
        "print(f\"Hottest day: {hottest_day.date} ({hottest_day.temperature}°C)\")\n",
        "\n",
        "avg_humidity = sum(obs.humidity for obs in observations) / len(observations)\n",
        "print(f\"Average humidity: {avg_humidity:.1f}%\")\n",
        "\n",
        "rainy_days = [obs for obs in observations if obs.condition == 'Rainy']\n",
        "print(f\"Rainy days: {[obs.date for obs in rainy_days]}\")\n",
        "\n",
        "# Create a summary namedtuple\n",
        "Summary = namedtuple('Summary', ['date', 'temperature', 'condition'])\n",
        "summaries = [Summary(obs.date, obs.temperature, obs.condition) for obs in observations]\n",
        "for summary in summaries:\n",
        "    print(f\"{summary.date}: {summary.temperature}°C, {summary.condition}\")"
      ],
      "metadata": {
        "id": "HijZMICAWL-l"
      },
      "execution_count": null,
      "outputs": []
    },
    {
      "cell_type": "markdown",
      "source": [
        "Exercise 3: Movie Database\n",
        "Work with movie information and ratings."
      ],
      "metadata": {
        "id": "mNwNgEOAWMI5"
      }
    },
    {
      "cell_type": "code",
      "source": [
        "Movie = namedtuple('Movie', ['title', 'director', 'year', 'genre', 'rating', 'duration_minutes'])\n",
        "\n",
        "movies = [\n",
        "    Movie('The Shawshank Redemption', 'Frank Darabont', 1994, 'Drama', 9.3, 142),\n",
        "    Movie('The Godfather', 'Francis Ford Coppola', 1972, 'Crime', 9.2, 175),\n",
        "    Movie('Pulp Fiction', 'Quentin Tarantino', 1994, 'Crime', 8.9, 154),\n",
        "    Movie('Inception', 'Christopher Nolan', 2010, 'Sci-Fi', 8.8, 148),\n",
        "    Movie('Forrest Gump', 'Robert Zemeckis', 1994, 'Drama', 8.8, 142),\n",
        "]\n",
        "\n",
        "# Your tasks:\n",
        "# 1. Find movies from 1994\n",
        "# 2. Find the longest movie\n",
        "# 3. Calculate average rating\n",
        "# 4. Group movies by genre\n",
        "# 5. Create a \"short info\" version with just title, year, and rating\n",
        "\n",
        "# Solutions:\n",
        "movies_1994 = [movie for movie in movies if movie.year == 1994]\n",
        "print(\"Movies from 1994:\")\n",
        "for movie in movies_1994:\n",
        "    print(f\"  {movie.title}\")\n",
        "\n",
        "longest_movie = max(movies, key=lambda m: m.duration_minutes)\n",
        "print(f\"\\nLongest movie: {longest_movie.title} ({longest_movie.duration_minutes} minutes)\")\n",
        "\n",
        "avg_rating = sum(movie.rating for movie in movies) / len(movies)\n",
        "print(f\"Average rating: {avg_rating:.1f}\")\n",
        "\n",
        "# Group by genre\n",
        "from collections import defaultdict\n",
        "by_genre = defaultdict(list)\n",
        "for movie in movies:\n",
        "    by_genre[movie.genre].append(movie.title)\n",
        "\n",
        "print(\"\\nMovies by genre:\")\n",
        "for genre, titles in by_genre.items():\n",
        "    print(f\"  {genre}: {titles}\")\n",
        "\n",
        "# Short info namedtuple\n",
        "ShortInfo = namedtuple('ShortInfo', ['title', 'year', 'rating'])\n",
        "short_infos = [ShortInfo(m.title, m.year, m.rating) for m in movies]\n",
        "print(\"\\nShort info:\")\n",
        "for info in short_infos:\n",
        "    print(f\"  {info.title} ({info.year}): {info.rating}/10\")"
      ],
      "metadata": {
        "id": "-SccMogtWMSN"
      },
      "execution_count": null,
      "outputs": []
    },
    {
      "cell_type": "markdown",
      "source": [
        "Advanced Usage\n",
        "Default Values"
      ],
      "metadata": {
        "id": "z68lVGa-WMgJ"
      }
    },
    {
      "cell_type": "code",
      "source": [
        "# Using defaults parameter (Python 3.7+)\n",
        "Task = namedtuple('Task', ['name', 'priority', 'completed'], defaults=[1, False])\n",
        "\n",
        "# Only name is required\n",
        "task1 = Task('Write tutorial')\n",
        "print(task1)  # Task(name='Write tutorial', priority=1, completed=False)\n",
        "\n",
        "task2 = Task('Review code', 3, True)\n",
        "print(task2)  # Task(name='Review code', priority=3, completed=True)"
      ],
      "metadata": {
        "id": "XSj6d7dcWMpc"
      },
      "execution_count": null,
      "outputs": []
    },
    {
      "cell_type": "markdown",
      "source": [
        "Inheritance and Extension"
      ],
      "metadata": {
        "id": "DstIWFsqWrAy"
      }
    },
    {
      "cell_type": "code",
      "source": [
        "# You can subclass namedtuples\n",
        "class ExtendedStudent(Student):\n",
        "    def is_honor_student(self):\n",
        "        return self.grade in ['A', 'A+']\n",
        "\n",
        "    def get_display_name(self):\n",
        "        return f\"{self.name} (ID: {self.student_id})\"\n",
        "\n",
        "student = ExtendedStudent('Carol Wilson', 17, 'A', 'ST003')\n",
        "print(student.is_honor_student())  # True\n",
        "print(student.get_display_name())  # Carol Wilson (ID: ST003)"
      ],
      "metadata": {
        "id": "FIabTmiSW1bp"
      },
      "execution_count": null,
      "outputs": []
    },
    {
      "cell_type": "markdown",
      "source": [
        "When to Use namedtuple\n",
        "Good Use Cases:\n",
        "\n",
        "Small, immutable data structures\n",
        "Replacing dictionaries when field names are known\n",
        "Function return values with multiple components\n",
        "Configuration objects\n",
        "Database record representations"
      ],
      "metadata": {
        "id": "f32FN-z5W5mH"
      }
    },
    {
      "cell_type": "markdown",
      "source": [
        "Example: Function Returns"
      ],
      "metadata": {
        "id": "OwRsJPrdW-QU"
      }
    },
    {
      "cell_type": "code",
      "source": [
        "def analyze_text(text):\n",
        "    words = text.split()\n",
        "    Analysis = namedtuple('Analysis', ['word_count', 'char_count', 'avg_word_length'])\n",
        "\n",
        "    word_count = len(words)\n",
        "    char_count = len(text)\n",
        "    avg_length = sum(len(word) for word in words) / word_count if words else 0\n",
        "\n",
        "    return Analysis(word_count, char_count, round(avg_length, 2))\n",
        "\n",
        "result = analyze_text(\"Hello world, this is a test!\")\n",
        "print(f\"Words: {result.word_count}, Characters: {result.char_count}\")\n",
        "print(f\"Average word length: {result.avg_word_length}\")"
      ],
      "metadata": {
        "id": "AehJQHXMW8u2"
      },
      "execution_count": null,
      "outputs": []
    },
    {
      "cell_type": "markdown",
      "source": [
        "Performance Comparison"
      ],
      "metadata": {
        "id": "94mSIxu7XCa3"
      }
    },
    {
      "cell_type": "code",
      "source": [
        "import sys\n",
        "\n",
        "# Memory usage comparison\n",
        "regular_tuple = ('Alice', 25, 'Engineer')\n",
        "Student = namedtuple('Student', ['name', 'age', 'job'])\n",
        "named_tuple_instance = Student('Alice', 25, 'Engineer')\n",
        "regular_dict = {'name': 'Alice', 'age': 25, 'job': 'Engineer'}\n",
        "\n",
        "print(f\"Regular tuple size: {sys.getsizeof(regular_tuple)} bytes\")\n",
        "print(f\"Named tuple size: {sys.getsizeof(named_tuple_instance)} bytes\")\n",
        "print(f\"Dictionary size: {sys.getsizeof(regular_dict)} bytes\")\n",
        "\n",
        "# namedtuples are as memory-efficient as regular tuples\n",
        "# but much more memory-efficient than dictionaries"
      ],
      "metadata": {
        "id": "bB36QZkEXLQv"
      },
      "execution_count": null,
      "outputs": []
    },
    {
      "cell_type": "markdown",
      "source": [
        "Summary\n",
        "\n",
        "namedtuple creates tuple subclasses with named fields\n",
        "Immutable - cannot modify after creation\n",
        "Memory efficient - same as regular tuples\n",
        "Readable - access fields by name instead of index\n",
        "Useful methods: _replace(), _asdict(), _make(), _fields\n",
        "Perfect for small, structured data that doesn't change"
      ],
      "metadata": {
        "id": "S0n2k74sXNW7"
      }
    }
  ]
}