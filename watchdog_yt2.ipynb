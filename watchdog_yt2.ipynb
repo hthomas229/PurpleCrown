{
  "nbformat": 4,
  "nbformat_minor": 0,
  "metadata": {
    "colab": {
      "provenance": [],
      "authorship_tag": "ABX9TyPdX9Yr2krHb4+C6sxqu17Y",
      "include_colab_link": true
    },
    "kernelspec": {
      "name": "python3",
      "display_name": "Python 3"
    },
    "language_info": {
      "name": "python"
    }
  },
  "cells": [
    {
      "cell_type": "markdown",
      "metadata": {
        "id": "view-in-github",
        "colab_type": "text"
      },
      "source": [
        "<a href=\"https://colab.research.google.com/github/hthomas229/PurpleCrown/blob/main/watchdog_yt2.ipynb\" target=\"_parent\"><img src=\"https://colab.research.google.com/assets/colab-badge.svg\" alt=\"Open In Colab\"/></a>"
      ]
    },
    {
      "cell_type": "markdown",
      "source": [
        "#Watchdog 🐶"
      ],
      "metadata": {
        "id": "WghBAXdXcRzJ"
      }
    },
    {
      "cell_type": "markdown",
      "source": [
        "Python's watchdog is a library that monitors a file system for events like creating, deleting, or modifying files and directories. It's used to trigger actions in response to these changes.\n",
        "\n",
        "Key Concepts\n",
        "Observers: These are the main objects that run in the background. An observer is responsible for watching one or more directories for changes.\n",
        "\n",
        "Handlers: These objects define the actions to take when an event occurs. You create a custom handler class with methods like on_created(), on_deleted(), on_modified(), and on_moved() to specify what your program should do.\n",
        "\n",
        "Events: These are the file system changes that the observer detects. The watchdog library detects four primary event types:\n",
        "\n",
        "FileCreatedEvent: A new file is added.\n",
        "\n",
        "FileDeletedEvent: An existing file is removed.\n",
        "\n",
        "FileModifiedEvent: An existing file's content is changed.\n",
        "\n",
        "FileMovedEvent: A file or directory is moved or renamed.\n",
        "\n",
        "Recursive Monitoring: Watchdog can monitor a directory and all of its subdirectories, which is useful for tasks that involve a large project folder."
      ],
      "metadata": {
        "id": "tbPLZCRoc1bp"
      }
    },
    {
      "cell_type": "markdown",
      "source": [
        "Install watchdog"
      ],
      "metadata": {
        "id": "gb8Rzw38cdm8"
      }
    },
    {
      "cell_type": "code",
      "source": [
        "!pip install watchdog"
      ],
      "metadata": {
        "colab": {
          "base_uri": "https://localhost:8080/"
        },
        "id": "tNIECQNBcRIq",
        "outputId": "88a6cf0d-f597-4c52-b6b2-a362f179b487"
      },
      "execution_count": null,
      "outputs": [
        {
          "output_type": "stream",
          "name": "stdout",
          "text": [
            "Requirement already satisfied: watchdog in /usr/local/lib/python3.11/dist-packages (6.0.0)\n"
          ]
        }
      ]
    },
    {
      "cell_type": "code",
      "execution_count": null,
      "metadata": {
        "id": "Tdj0bGO-cJoF"
      },
      "outputs": [],
      "source": [
        "from watchdog.observers import Observer\n",
        "from watchdog.events import FileSystemEventHandler\n",
        "import time\n",
        "import os\n",
        "import pandas as pd"
      ]
    },
    {
      "cell_type": "markdown",
      "source": [
        "##Create Handler and Observer"
      ],
      "metadata": {
        "id": "QsUwwHSIesmx"
      }
    },
    {
      "cell_type": "code",
      "source": [
        "#define folder to watch\n",
        "\n",
        "WATCH_FOLDER = \"watchdog_folder\"\n",
        "\n",
        "\n",
        "#define Event Handler\n",
        "\n",
        "class FileHandler(FileSystemEventHandler):\n",
        "  def on_created(self,event):\n",
        "    if not event.is_directory:\n",
        "      time.sleep(1)  #Give the file some time to write\n",
        "      file_name = os.path.basename(event.src_path) # Extract just the filename\n",
        "      print(f\"🔍 Detected file: {file_name}\")\n",
        "\n",
        "\n",
        "\n",
        "if __name__ == \"__main__\":\n",
        "    os.makedirs(WATCH_FOLDER, exist_ok=True)\n",
        "\n",
        "\n",
        "    observer = Observer()\n",
        "    observer.schedule(FileHandler(), WATCH_FOLDER, recursive=False)\n",
        "    observer.start()\n",
        "    print(f\"👁️Watching folder: {WATCH_FOLDER}\")\n",
        "\n",
        "    try:\n",
        "        while True:\n",
        "            time.sleep(1)\n",
        "    except KeyboardInterrupt:\n",
        "        observer.stop()\n",
        "        print(\"🛑 Watchdog stopped!\")\n",
        "    observer.join()"
      ],
      "metadata": {
        "colab": {
          "base_uri": "https://localhost:8080/"
        },
        "id": "UQzlf6DPeqTS",
        "outputId": "eb0cea4f-a2fc-491a-f0b8-3b36c1a7ee9d"
      },
      "execution_count": null,
      "outputs": [
        {
          "output_type": "stream",
          "name": "stdout",
          "text": [
            "👁️Watching folder: watchdog_folder\n",
            "🔍 Detected file: wilco.csv\n",
            "🛑 Watchdog stopped!\n"
          ]
        }
      ]
    },
    {
      "cell_type": "markdown",
      "source": [
        "##Add Some processing functionality\n"
      ],
      "metadata": {
        "id": "88MkAO2ysXrN"
      }
    },
    {
      "cell_type": "markdown",
      "source": [
        "##Have the folder take in an Excel spreadsehhet and convert all column names to lowercase, create a processed folder and move it there.\n"
      ],
      "metadata": {
        "id": "TpsXNu9Xs4xk"
      }
    },
    {
      "cell_type": "code",
      "source": [
        "import os\n",
        "import time\n",
        "import shutil\n",
        "import pandas as pd\n",
        "\n",
        "\n",
        "\n",
        "def process_file(file_path):\n",
        "    \"\"\"\n",
        "    Simulates processing a file, converts Excel headers to lowercase, and moves the file.\n",
        "    \"\"\"\n",
        "    try:\n",
        "        print(f\"⚙️ Processing file: {os.path.basename(file_path)}...\")\n",
        "\n",
        "        # Check if the file is an Excel file before processing headers\n",
        "        if file_path.endswith(('.xlsx', '.xls')):\n",
        "            # Read the Excel file into a pandas DataFrame\n",
        "            df = pd.read_excel(file_path)\n",
        "\n",
        "            # Convert all column names (headers) to lowercase\n",
        "            df.columns = df.columns.str.lower()\n",
        "\n",
        "            # Save the modified DataFrame, overwriting the original file\n",
        "            df.to_excel(file_path, index=False)\n",
        "            print(\"✅ Excel headers converted to lowercase.\")\n",
        "        else:\n",
        "            print(\"ℹ️ File is not an Excel file; skipping header conversion.\")\n",
        "\n",
        "        # ... (rest of the code to move the file)\n",
        "        os.makedirs(PROCESSED_FOLDER, exist_ok=True)\n",
        "        destination_path = os.path.join(PROCESSED_FOLDER, os.path.basename(file_path))\n",
        "        shutil.move(file_path, destination_path)\n",
        "\n",
        "        print(f\"✅ Finished processing and moved to: {destination_path}\")\n",
        "        return destination_path\n",
        "\n",
        "    except FileNotFoundError:\n",
        "        print(f\"Error: File not found at {file_path}\")\n",
        "        return None\n",
        "    except Exception as e:\n",
        "        print(f\"An error occurred during processing: {e}\")\n",
        "        return None"
      ],
      "metadata": {
        "id": "sNiYV1dCrdz0"
      },
      "execution_count": null,
      "outputs": []
    },
    {
      "cell_type": "markdown",
      "source": [
        "#Modiy our script to accept process_file()"
      ],
      "metadata": {
        "id": "MQKs9Y8K5nzl"
      }
    },
    {
      "cell_type": "code",
      "source": [
        "#define folder to watch\n",
        "\n",
        "WATCH_FOLDER = \"watchdog_folder\"\n",
        "PROCESSED_FOLDER = \"processed\"  # add folder for processed output\n",
        "\n",
        "\n",
        "#define Event Handler\n",
        "\n",
        "class FileHandler(FileSystemEventHandler):\n",
        "  def on_created(self,event):\n",
        "    if not event.is_directory:\n",
        "      time.sleep(1)  #Give the file some time to write\n",
        "      file_name = os.path.basename(event.src_path) # Extract just the filename\n",
        "      print(f\"🔍 Detected file: {file_name}\")\n",
        "      output_path = process_file(event.src_path)\n",
        "\n",
        "\n",
        "\n",
        "if __name__ == \"__main__\":\n",
        "    os.makedirs(WATCH_FOLDER, exist_ok=True)\n",
        "\n",
        "\n",
        "    observer = Observer()\n",
        "    observer.schedule(FileHandler(), WATCH_FOLDER, recursive=False)\n",
        "    observer.start()\n",
        "    print(f\"👁️Watching folder: {WATCH_FOLDER}\")\n",
        "\n",
        "    try:\n",
        "        while True:\n",
        "            time.sleep(1)\n",
        "    except KeyboardInterrupt:\n",
        "        observer.stop()\n",
        "        print(\"🛑 Watchdog stopped!\")\n",
        "    observer.join()"
      ],
      "metadata": {
        "colab": {
          "base_uri": "https://localhost:8080/"
        },
        "outputId": "63c44f0c-9cbb-4ce7-bf37-a24e9caaca14",
        "id": "arh-xOfprfiG"
      },
      "execution_count": null,
      "outputs": [
        {
          "output_type": "stream",
          "name": "stdout",
          "text": [
            "👁️Watching folder: watchdog_folder\n",
            "🔍 Detected file: watch-test.xlsx\n",
            "⚙️ Processing file: watch-test.xlsx...\n",
            "✅ Excel headers converted to lowercase.\n",
            "✅ Finished processing and moved to: processed/watch-test.xlsx\n",
            "🛑 Watchdog stopped!\n"
          ]
        }
      ]
    },
    {
      "cell_type": "markdown",
      "source": [],
      "metadata": {
        "id": "hDy7eMPwdS4g"
      }
    }
  ]
}