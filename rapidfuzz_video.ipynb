{
  "nbformat": 4,
  "nbformat_minor": 0,
  "metadata": {
    "colab": {
      "provenance": [],
      "authorship_tag": "ABX9TyNrHslETnT5xKumHqplLvoB",
      "include_colab_link": true
    },
    "kernelspec": {
      "name": "python3",
      "display_name": "Python 3"
    },
    "language_info": {
      "name": "python"
    }
  },
  "cells": [
    {
      "cell_type": "markdown",
      "metadata": {
        "id": "view-in-github",
        "colab_type": "text"
      },
      "source": [
        "<a href=\"https://colab.research.google.com/github/hthomas229/PurpleCrown/blob/main/rapidfuzz_video.ipynb\" target=\"_parent\"><img src=\"https://colab.research.google.com/assets/colab-badge.svg\" alt=\"Open In Colab\"/></a>"
      ]
    },
    {
      "cell_type": "markdown",
      "source": [
        "#RapidFuzz"
      ],
      "metadata": {
        "id": "vXQiBSQ6KqxL"
      }
    },
    {
      "cell_type": "markdown",
      "source": [
        "##A fast string matching library for Python and C++, using string similarity calculations.\n",
        "\n",
        "RapidFuzz is a high-performance Python library for fuzzy string matching, ideal for tasks where approximate string comparison is needed. Here are some compelling use cases:\n",
        "\n",
        "---\n",
        "\n",
        "### 🔍 Common Use Cases for RapidFuzz\n",
        "\n",
        "#### 1. **Data Deduplication**\n",
        "- Identify and merge duplicate records in datasets where names or addresses may be slightly different.\n",
        "- Example: `\"Jon Smith\"` vs `\"John Smith\"`.\n",
        "\n",
        "#### 2. **Record Linkage Across DataFrames**\n",
        "- Match similar entries across two datasets, such as customer names or product titles.\n",
        "\n",
        "\n",
        "#### 3. **Search Autocomplete and Suggestions**\n",
        "- Improve user experience by suggesting close matches to user input.\n",
        "- Example: Typing `\"iphne\"` returns `\"iPhone\"`.\n",
        "\n",
        "#### 4. **Natural Language Processing**\n",
        "- Compare user queries or text snippets for similarity in chatbots or recommendation engines.\n",
        "- Useful for intent recognition or clustering similar queries.\n",
        "\n",
        "#### 5. **Spell Checking and Correction**\n",
        "- Detect and correct typos by comparing input against a dictionary of valid words.\n",
        "\n",
        "#### 6. **Filtering and Ranking Search Results**\n",
        "- Rank results based on similarity to the search query.\n",
        "\n"
      ],
      "metadata": {
        "id": "TRvP2py-Led2"
      }
    },
    {
      "cell_type": "markdown",
      "source": [
        "Install RapidFuzz"
      ],
      "metadata": {
        "id": "9UgXPcfYMEtK"
      }
    },
    {
      "cell_type": "code",
      "source": [
        "!pip install rapidfuzz"
      ],
      "metadata": {
        "id": "KyME8_6LMB5E",
        "colab": {
          "base_uri": "https://localhost:8080/"
        },
        "outputId": "190a2aeb-d196-4c8d-ba81-8ade6cebb18c"
      },
      "execution_count": 1,
      "outputs": [
        {
          "output_type": "stream",
          "name": "stdout",
          "text": [
            "Collecting rapidfuzz\n",
            "  Downloading rapidfuzz-3.13.0-cp311-cp311-manylinux_2_17_x86_64.manylinux2014_x86_64.whl.metadata (12 kB)\n",
            "Downloading rapidfuzz-3.13.0-cp311-cp311-manylinux_2_17_x86_64.manylinux2014_x86_64.whl (3.1 MB)\n",
            "\u001b[2K   \u001b[90m━━━━━━━━━━━━━━━━━━━━━━━━━━━━━━━━━━━━━━━━\u001b[0m \u001b[32m3.1/3.1 MB\u001b[0m \u001b[31m7.4 MB/s\u001b[0m eta \u001b[36m0:00:00\u001b[0m\n",
            "\u001b[?25hInstalling collected packages: rapidfuzz\n",
            "Successfully installed rapidfuzz-3.13.0\n"
          ]
        }
      ]
    },
    {
      "cell_type": "markdown",
      "source": [
        "Import the necessary libraries"
      ],
      "metadata": {
        "id": "GCK4V3nKMSug"
      }
    },
    {
      "cell_type": "code",
      "source": [
        "from rapidfuzz import fuzz, process\n",
        "import pandas as pd  #read csv to dataframe\n",
        "import os #check file path"
      ],
      "metadata": {
        "id": "xCfqGDgbMX0C"
      },
      "execution_count": 2,
      "outputs": []
    },
    {
      "cell_type": "markdown",
      "source": [
        "#Basic Usage"
      ],
      "metadata": {
        "id": "ijWp1Y5VOO-5"
      }
    },
    {
      "cell_type": "markdown",
      "source": [
        "Simple Fuzz Ratio"
      ],
      "metadata": {
        "id": "RN2A8tG1OZ8p"
      }
    },
    {
      "cell_type": "code",
      "source": [
        "str1 = \"Hello Newman!\"\n",
        "str2 = \"Hello Jerry!\"\n",
        "\n",
        "ratio = fuzz.ratio(str1, str2)\n",
        "\n",
        "ratio"
      ],
      "metadata": {
        "id": "j9-gtU2vOel9",
        "colab": {
          "base_uri": "https://localhost:8080/"
        },
        "outputId": "59fe2766-1675-4648-c3aa-253267bbe79e"
      },
      "execution_count": 7,
      "outputs": [
        {
          "output_type": "execute_result",
          "data": {
            "text/plain": [
              "64.0"
            ]
          },
          "metadata": {},
          "execution_count": 7
        }
      ]
    },
    {
      "cell_type": "markdown",
      "source": [
        "Partial Ratio – Match Substrings Useful when one string is contained in another."
      ],
      "metadata": {
        "id": "2BNh5p1cOkn0"
      }
    },
    {
      "cell_type": "code",
      "source": [
        "str1 = \"Jimmy likes Elaine\"\n",
        "str2 = \"Jimmy\"\n",
        "\n",
        "ratio = fuzz.ratio(str1, str2)\n",
        "ratio_partial = fuzz.partial_ratio(str1, str2)\n",
        "\n",
        "ratio, ratio_partial"
      ],
      "metadata": {
        "id": "Mx_Li0uVOpvq",
        "colab": {
          "base_uri": "https://localhost:8080/"
        },
        "outputId": "bbd965a0-a991-4133-cd15-4f2198e5cf63"
      },
      "execution_count": 8,
      "outputs": [
        {
          "output_type": "execute_result",
          "data": {
            "text/plain": [
              "(43.47826086956522, 100.0)"
            ]
          },
          "metadata": {},
          "execution_count": 8
        }
      ]
    },
    {
      "cell_type": "markdown",
      "source": [
        "Token Sort Ratio – Ignore Word Order"
      ],
      "metadata": {
        "id": "zBuRYGCrOqFY"
      }
    },
    {
      "cell_type": "code",
      "source": [
        "str1 = (\"Kenny Rogers Roasters\")\n",
        "str2 = (\"Roasters Kenny Rogers\")\n",
        "\n",
        "ratio = fuzz.ratio(str1, str2)\n",
        "ratio_partial = fuzz.partial_ratio(str1, str2)\n",
        "ratio_token_sort = fuzz.token_sort_ratio(str1, str2)\n",
        "\n",
        "ratio, ratio_partial, ratio_token_sort"
      ],
      "metadata": {
        "id": "pPF0kfZQOqWv",
        "colab": {
          "base_uri": "https://localhost:8080/"
        },
        "outputId": "1401350c-27b2-4f00-865f-337d5bc066d9"
      },
      "execution_count": 11,
      "outputs": [
        {
          "output_type": "execute_result",
          "data": {
            "text/plain": [
              "(50.0, 72.72727272727273, 87.5)"
            ]
          },
          "metadata": {},
          "execution_count": 11
        }
      ]
    },
    {
      "cell_type": "markdown",
      "source": [
        "Token Set Ratio – Match Common Words"
      ],
      "metadata": {
        "id": "M2V8lS-KOqiL"
      }
    },
    {
      "cell_type": "code",
      "source": [
        "str1 = \"The Soup Nazi The\"\n",
        "str2 = \"Nazi Soup the and more stuff\"\n",
        "\n",
        "ratio = fuzz.ratio(str1, str2)\n",
        "ratio_partial = fuzz.partial_ratio(str1, str2)\n",
        "ratio_token_sort = fuzz.token_sort_ratio(str1, str2)\n",
        "ratio_token_set = fuzz.token_set_ratio(str1,str2)\n",
        "\n",
        "ratio, ratio_partial, ratio_token_sort, ratio_token_set"
      ],
      "metadata": {
        "id": "umG2XZfYOquJ",
        "colab": {
          "base_uri": "https://localhost:8080/"
        },
        "outputId": "490b6a7b-364c-4737-cb41-6c169c811dfa"
      },
      "execution_count": 12,
      "outputs": [
        {
          "output_type": "execute_result",
          "data": {
            "text/plain": [
              "(40.0, 53.333333333333336, 62.22222222222222, 81.81818181818181)"
            ]
          },
          "metadata": {},
          "execution_count": 12
        }
      ]
    },
    {
      "cell_type": "markdown",
      "source": [
        "Process Extract - to find best matches"
      ],
      "metadata": {
        "id": "Rcb0GOBAOq3V"
      }
    },
    {
      "cell_type": "code",
      "source": [
        "seinfeld_quotes = [\n",
        "    \"No soup for you!\",\n",
        "    \"These pretzels are making me thirsty.\",\n",
        "    \"Serenity now!\",\n",
        "    \"Yada yada yada.\",\n",
        "    \"George likes his chicken very spicy!\",\n",
        "    \"The sea was angry that day, my friends.\"\n",
        "]\n",
        "\n",
        "\n",
        "user_query = \"very thirsty\"\n",
        "\n",
        "multiple_matches = process.extract(user_query, seinfeld_quotes)\n",
        "\n",
        "if multiple_matches:\n",
        "  print(f\"Top matches for '{user_query}': \")\n",
        "  for match, score, index in multiple_matches:\n",
        "    print(f\"- {match} (Score: {score:.2f})\")\n",
        "else:\n",
        "  print(\"No matches found\")"
      ],
      "metadata": {
        "id": "vfj3ssynQoy2",
        "colab": {
          "base_uri": "https://localhost:8080/"
        },
        "outputId": "776838d8-0b07-4f9b-e0fa-e0c6aaab224a"
      },
      "execution_count": 13,
      "outputs": [
        {
          "output_type": "stream",
          "name": "stdout",
          "text": [
            "Top matches for 'very thirsty': \n",
            "- George likes his chicken very spicy! (Score: 85.50)\n",
            "- These pretzels are making me thirsty. (Score: 73.64)\n",
            "- The sea was angry that day, my friends. (Score: 52.50)\n",
            "- Serenity now! (Score: 40.00)\n",
            "- No soup for you! (Score: 27.14)\n"
          ]
        }
      ]
    },
    {
      "cell_type": "markdown",
      "source": [
        "Process Extract One - to find best match"
      ],
      "metadata": {
        "id": "ugofew0nQpWy"
      }
    },
    {
      "cell_type": "code",
      "source": [],
      "metadata": {
        "id": "sXp83lmJQ1HU"
      },
      "execution_count": null,
      "outputs": []
    },
    {
      "cell_type": "code",
      "source": [
        "from rapidfuzz import process\n",
        "\n",
        "seinfeld_quotes = [\n",
        "    \"No soup for you!\",\n",
        "    \"These pretzels are making me thirsty.\",\n",
        "    \"Serenity now!\",\n",
        "    \"Yada yada yada.\",\n",
        "    \"George likes his chicken very spicy!\",\n",
        "    \"The sea was angry that day, my friends.\"\n",
        "]\n",
        "\n",
        "user_query = \"very thirsty\"\n",
        "\n",
        "best_match = process.extractOne(user_query, seinfeld_quotes)\n",
        "\n",
        "if best_match:\n",
        "    print(f\"Best match: {best_match[0]} (Score: {best_match[1]:.2f})\")\n",
        "else:\n",
        "    print(\"No match found.\")"
      ],
      "metadata": {
        "colab": {
          "base_uri": "https://localhost:8080/"
        },
        "outputId": "f603dad5-0da4-4461-d085-89da17968c15",
        "id": "jgCrlU62czkR"
      },
      "execution_count": 16,
      "outputs": [
        {
          "output_type": "stream",
          "name": "stdout",
          "text": [
            "Best match: George likes his chicken very spicy! (Score: 85.50)\n"
          ]
        }
      ]
    },
    {
      "cell_type": "markdown",
      "source": [
        "##Advanced: Choose Scorer, Item Limits & Cutoff Score\n",
        "\n",
        "1.   Chooose score method\n",
        "2.   Limit items returned\n",
        "3.   Score-cutoff\n"
      ],
      "metadata": {
        "id": "byTQ7h71RFpI"
      }
    },
    {
      "cell_type": "markdown",
      "source": [
        "Scorer"
      ],
      "metadata": {
        "id": "ZIKSaOqUSKI9"
      }
    },
    {
      "cell_type": "code",
      "source": [],
      "metadata": {
        "id": "hzPdiC4iSUNK"
      },
      "execution_count": null,
      "outputs": []
    },
    {
      "cell_type": "code",
      "metadata": {
        "colab": {
          "base_uri": "https://localhost:8080/"
        },
        "id": "6413ea28",
        "outputId": "62d87959-d51f-4510-f009-90c7e8482cc4"
      },
      "source": [
        "\n",
        "\n",
        "seinfeld_quotes = [\n",
        "    \"No soup for you!\",\n",
        "    \"These pretzels are making me thirsty.\",\n",
        "    \"Serenity now!\",\n",
        "    \"Yada yada yada.\",\n",
        "    \"George likes his chicken very spicy!\",\n",
        "    \"The sea was angry that day, my friends.\"\n",
        "]\n",
        "\n",
        "user_query = \"very thirsty\"\n",
        "\n",
        "# Using partial_ratio as the custom scorer\n",
        "best_match_partial = process.extractOne(user_query, seinfeld_quotes, scorer=fuzz.partial_ratio)\n",
        "\n",
        "if best_match_partial:\n",
        "    print(f\"Best match using partial_ratio: {best_match_partial[0]} (Score: {best_match_partial[1]:.2f})\")\n",
        "else:\n",
        "    print(\"No match found.\")"
      ],
      "execution_count": 18,
      "outputs": [
        {
          "output_type": "stream",
          "name": "stdout",
          "text": [
            "Best match using partial_ratio: These pretzels are making me thirsty. (Score: 81.82)\n"
          ]
        }
      ]
    },
    {
      "cell_type": "markdown",
      "source": [
        "Limit Items Returned"
      ],
      "metadata": {
        "id": "W71pCClGSXGT"
      }
    },
    {
      "cell_type": "code",
      "source": [],
      "metadata": {
        "id": "bK8-JCoTSXr6"
      },
      "execution_count": null,
      "outputs": []
    },
    {
      "cell_type": "code",
      "metadata": {
        "colab": {
          "base_uri": "https://localhost:8080/"
        },
        "id": "b29b6170",
        "outputId": "f6d1f260-eb89-4f8c-936b-fc2318c98c66"
      },
      "source": [
        "\n",
        "\n",
        "seinfeld_quotes = [\n",
        "    \"No soup for you!\",\n",
        "    \"These pretzels are making me thirsty.\",\n",
        "    \"Serenity now!\",\n",
        "    \"Yada yada yada.\",\n",
        "    \"The sea was angry that day, my friends.\",\n",
        "    \"Jerry, these are load bearing walls!\",\n",
        "    \"The Contest.\"\n",
        "]\n",
        "\n",
        "user_query = \"the\"\n",
        "\n",
        "# Get up to 3 best matches\n",
        "multiple_matches_limited = process.extract(user_query, seinfeld_quotes, limit=3)\n",
        "\n",
        "if multiple_matches_limited:\n",
        "    print(f\"Top {len(multiple_matches_limited)} matches for '{user_query}':\")\n",
        "    for match, score, index in multiple_matches_limited:\n",
        "        print(f\"- {match} (Score: {score:.2f})\")\n",
        "else:\n",
        "    print(\"No matches found.\")\n",
        "\n",
        "\n",
        "#"
      ],
      "execution_count": 19,
      "outputs": [
        {
          "output_type": "stream",
          "name": "stdout",
          "text": [
            "Top 3 matches for 'the':\n",
            "- The Contest. (Score: 68.40)\n",
            "- Jerry, these are load bearing walls! (Score: 60.00)\n",
            "- These pretzels are making me thirsty. (Score: 40.00)\n"
          ]
        }
      ]
    },
    {
      "cell_type": "markdown",
      "source": [
        "Score Cutoff"
      ],
      "metadata": {
        "id": "obsEidebSX5V"
      }
    },
    {
      "cell_type": "code",
      "source": [],
      "metadata": {
        "id": "sG_YmCFASYDW"
      },
      "execution_count": null,
      "outputs": []
    },
    {
      "cell_type": "code",
      "metadata": {
        "colab": {
          "base_uri": "https://localhost:8080/"
        },
        "id": "2328d14e",
        "outputId": "afbc0681-ddf6-497f-f428-308936ca1699"
      },
      "source": [
        "\n",
        "\n",
        "seinfeld_quotes = [\n",
        "    \"No soup for you!\",\n",
        "    \"These pretzels are making me thirsty.\",\n",
        "    \"Serenity now!\",\n",
        "    \"George likes his chicken very spicy.\",\n",
        "    \"Yada yada yada.\",\n",
        "    \"The sea was angry that day, my friends.\"\n",
        "]\n",
        "\n",
        "user_query = \"very thirsty\"\n",
        "\n",
        "# Set a score cutoff of 50\n",
        "best_match_cutoff = process.extract(user_query, seinfeld_quotes, score_cutoff=70)\n",
        "\n",
        "if best_match_cutoff:\n",
        "    print(f\"Matches found above the cutoff score for '{user_query}':\")\n",
        "    for match, score, index in best_match_cutoff:\n",
        "        print(f\"- {match} (Score: {score:.2f})\")\n",
        "else:\n",
        "    print(f\"No match found above the cutoff score for '{user_query}'.\")\n",
        "\n"
      ],
      "execution_count": 21,
      "outputs": [
        {
          "output_type": "stream",
          "name": "stdout",
          "text": [
            "Matches found above the cutoff score for 'very thirsty':\n",
            "- George likes his chicken very spicy. (Score: 85.50)\n",
            "- These pretzels are making me thirsty. (Score: 73.64)\n"
          ]
        }
      ]
    },
    {
      "cell_type": "markdown",
      "source": [
        "WRatio & QRatio"
      ],
      "metadata": {
        "id": "ciM1hgYYTlCx"
      }
    },
    {
      "cell_type": "code",
      "source": [
        "str1 = \"These pretzels are making me thirsty.\"\n",
        "str2 = \"are making me thirsty these pretels. \"\n",
        "\n",
        "\n",
        "# Compare with a simple ratio\n",
        "ratio_score = fuzz.ratio(str1, str2)\n",
        "print(f\"Ratio score: {ratio_score:.2f}\")\n",
        "\n",
        "\n",
        "# Compare with a simple ratio\n",
        "ratio_score = fuzz.partial_ratio(str1, str2)\n",
        "print(f\"Partial Ratio score: {ratio_score:.2f}\")\n",
        "\n",
        "# Using WRatio which incorporates weighting\n",
        "wratio_score = fuzz.WRatio(str1, str2)\n",
        "print(f\"WRatio score: {wratio_score:.2f}\")\n",
        "\n",
        "\n",
        "# Using QRatio for comparison\n",
        "qratio_score = fuzz.QRatio(str1, str2)\n",
        "print(f\"QRatio score: {qratio_score:.2f}\")"
      ],
      "metadata": {
        "id": "zQg2sLUrTlTG",
        "colab": {
          "base_uri": "https://localhost:8080/"
        },
        "outputId": "b76ef457-e877-417b-9627-4a8b317eb085"
      },
      "execution_count": 23,
      "outputs": [
        {
          "output_type": "stream",
          "name": "stdout",
          "text": [
            "Ratio score: 59.46\n",
            "Partial Ratio score: 74.58\n",
            "WRatio score: 75.48\n",
            "QRatio score: 59.46\n"
          ]
        }
      ]
    },
    {
      "cell_type": "markdown",
      "source": [
        "#Search Database From User Input"
      ],
      "metadata": {
        "id": "62nPMJsVQMl6"
      }
    },
    {
      "cell_type": "markdown",
      "source": [
        "Declare our csv file name as a variable\n"
      ],
      "metadata": {
        "id": "C1cMZ4ZfNBtd"
      }
    },
    {
      "cell_type": "code",
      "source": [
        "CSV_FILE = '/content/product.csv'"
      ],
      "metadata": {
        "id": "1j48l3ZdQLVh"
      },
      "execution_count": 24,
      "outputs": []
    },
    {
      "cell_type": "markdown",
      "source": [
        "Make sure the file exists in the directory using os library"
      ],
      "metadata": {
        "id": "RYWH2nnfNXQ2"
      }
    },
    {
      "cell_type": "code",
      "source": [
        "if not os.path.exists(CSV_FILE):\n",
        "  print({f\"{CSV_FILE}not found.  Please make sure it exists.\"})"
      ],
      "metadata": {
        "id": "4haDunkvNUeM"
      },
      "execution_count": 25,
      "outputs": []
    },
    {
      "cell_type": "markdown",
      "source": [
        "Upload & Transform the csv into a Pandas Dataframe\n",
        "\n",
        "1.   read file into dataframe\n",
        "2.   check for errors\n",
        "\n"
      ],
      "metadata": {
        "id": "s3MEZudTNoce"
      }
    },
    {
      "cell_type": "code",
      "execution_count": 28,
      "metadata": {
        "id": "UBSOWvrLKeIE"
      },
      "outputs": [],
      "source": [
        "try:\n",
        "  df = pd.read_csv(CSV_FILE)\n",
        "except  Exception as e:\n",
        "  print(f\"✖️ Error reading CSV: {e}\")"
      ]
    },
    {
      "cell_type": "markdown",
      "source": [
        "View the top 5 rows"
      ],
      "metadata": {
        "id": "6Jb4sp04Z8Cr"
      }
    },
    {
      "cell_type": "code",
      "source": [
        "df.head(20)"
      ],
      "metadata": {
        "id": "mqoqE2KdaExq",
        "colab": {
          "base_uri": "https://localhost:8080/",
          "height": 676
        },
        "outputId": "d5879b09-115a-45ab-b7e0-7a270aaa7637"
      },
      "execution_count": 29,
      "outputs": [
        {
          "output_type": "execute_result",
          "data": {
            "text/plain": [
              "   Product ID                Product Name     Category   Price  Stock  \\\n",
              "0        P001            Wireless Earbuds  Electronics   59.99    150   \n",
              "1        P002           Bluetooth Speaker  Electronics   89.50     75   \n",
              "2        P003                 Smart Watch    Wearables  199.99     40   \n",
              "3        P004                    Yoga Mat      Fitness   25.00    200   \n",
              "4        P005      Stainless Steel Bottle  Accessories   18.75    300   \n",
              "5        P006                Laptop Stand  Electronics   45.99     80   \n",
              "6        P007  Noise-Canceling Headphones  Electronics  249.95     35   \n",
              "7        P008            Resistance Bands      Fitness   15.50    250   \n",
              "8        P009            Portable Charger  Electronics   34.99    180   \n",
              "9        P010            Smart Light Bulb         Home   12.99    400   \n",
              "10       P011         Waterproof Backpack  Accessories   49.95    120   \n",
              "11       P012         Electric Toothbrush       Health   55.00     90   \n",
              "12       P013               Running Shoes     Footwear   85.00     60   \n",
              "13       P014              Protein Powder       Health   39.99    110   \n",
              "14       P015              Wireless Mouse  Electronics   29.99    140   \n",
              "15       P016                  Yoga Block      Fitness   12.50    180   \n",
              "16       P017            Smart Thermostat         Home  179.99     25   \n",
              "17       P018                   Desk Lamp         Home   32.49     70   \n",
              "18       P019                   USB-C Hub  Electronics   39.95     95   \n",
              "19       P020               Folding Chair    Furniture   44.99     50   \n",
              "\n",
              "             Supplier  Date Added  \n",
              "0       SoundWave Inc  2023-01-10  \n",
              "1        AudioMax Ltd  2023-02-15  \n",
              "2       TimeTech Corp  2023-03-05  \n",
              "3          FitLife Co  2023-01-22  \n",
              "4         EcoGear Ltd  2023-04-10  \n",
              "5   DeskPro Solutions  2023-05-18  \n",
              "6       SilentAir Inc  2023-06-01  \n",
              "7          FitLife Co  2023-02-28  \n",
              "8         PowerGo Ltd  2023-03-14  \n",
              "9      BrightHome Inc  2023-07-22  \n",
              "10     TrailBlazer Co  2023-08-05  \n",
              "11     CleanSmile Ltd  2023-09-12  \n",
              "12     SprintStep Inc  2023-10-01  \n",
              "13       NutriFuel Co  2023-11-05  \n",
              "14      ClickTech Ltd  2023-12-10  \n",
              "15         FitLife Co  2024-01-08  \n",
              "16   ClimateSmart Inc  2024-02-14  \n",
              "17     BrightHome Inc  2024-03-01  \n",
              "18     ConnectPro Ltd  2024-03-20  \n",
              "19      ComfySeats Co  2024-04-05  "
            ],
            "text/html": [
              "\n",
              "  <div id=\"df-4dd288ec-34ad-4f53-9536-f4f6d04e812d\" class=\"colab-df-container\">\n",
              "    <div>\n",
              "<style scoped>\n",
              "    .dataframe tbody tr th:only-of-type {\n",
              "        vertical-align: middle;\n",
              "    }\n",
              "\n",
              "    .dataframe tbody tr th {\n",
              "        vertical-align: top;\n",
              "    }\n",
              "\n",
              "    .dataframe thead th {\n",
              "        text-align: right;\n",
              "    }\n",
              "</style>\n",
              "<table border=\"1\" class=\"dataframe\">\n",
              "  <thead>\n",
              "    <tr style=\"text-align: right;\">\n",
              "      <th></th>\n",
              "      <th>Product ID</th>\n",
              "      <th>Product Name</th>\n",
              "      <th>Category</th>\n",
              "      <th>Price</th>\n",
              "      <th>Stock</th>\n",
              "      <th>Supplier</th>\n",
              "      <th>Date Added</th>\n",
              "    </tr>\n",
              "  </thead>\n",
              "  <tbody>\n",
              "    <tr>\n",
              "      <th>0</th>\n",
              "      <td>P001</td>\n",
              "      <td>Wireless Earbuds</td>\n",
              "      <td>Electronics</td>\n",
              "      <td>59.99</td>\n",
              "      <td>150</td>\n",
              "      <td>SoundWave Inc</td>\n",
              "      <td>2023-01-10</td>\n",
              "    </tr>\n",
              "    <tr>\n",
              "      <th>1</th>\n",
              "      <td>P002</td>\n",
              "      <td>Bluetooth Speaker</td>\n",
              "      <td>Electronics</td>\n",
              "      <td>89.50</td>\n",
              "      <td>75</td>\n",
              "      <td>AudioMax Ltd</td>\n",
              "      <td>2023-02-15</td>\n",
              "    </tr>\n",
              "    <tr>\n",
              "      <th>2</th>\n",
              "      <td>P003</td>\n",
              "      <td>Smart Watch</td>\n",
              "      <td>Wearables</td>\n",
              "      <td>199.99</td>\n",
              "      <td>40</td>\n",
              "      <td>TimeTech Corp</td>\n",
              "      <td>2023-03-05</td>\n",
              "    </tr>\n",
              "    <tr>\n",
              "      <th>3</th>\n",
              "      <td>P004</td>\n",
              "      <td>Yoga Mat</td>\n",
              "      <td>Fitness</td>\n",
              "      <td>25.00</td>\n",
              "      <td>200</td>\n",
              "      <td>FitLife Co</td>\n",
              "      <td>2023-01-22</td>\n",
              "    </tr>\n",
              "    <tr>\n",
              "      <th>4</th>\n",
              "      <td>P005</td>\n",
              "      <td>Stainless Steel Bottle</td>\n",
              "      <td>Accessories</td>\n",
              "      <td>18.75</td>\n",
              "      <td>300</td>\n",
              "      <td>EcoGear Ltd</td>\n",
              "      <td>2023-04-10</td>\n",
              "    </tr>\n",
              "    <tr>\n",
              "      <th>5</th>\n",
              "      <td>P006</td>\n",
              "      <td>Laptop Stand</td>\n",
              "      <td>Electronics</td>\n",
              "      <td>45.99</td>\n",
              "      <td>80</td>\n",
              "      <td>DeskPro Solutions</td>\n",
              "      <td>2023-05-18</td>\n",
              "    </tr>\n",
              "    <tr>\n",
              "      <th>6</th>\n",
              "      <td>P007</td>\n",
              "      <td>Noise-Canceling Headphones</td>\n",
              "      <td>Electronics</td>\n",
              "      <td>249.95</td>\n",
              "      <td>35</td>\n",
              "      <td>SilentAir Inc</td>\n",
              "      <td>2023-06-01</td>\n",
              "    </tr>\n",
              "    <tr>\n",
              "      <th>7</th>\n",
              "      <td>P008</td>\n",
              "      <td>Resistance Bands</td>\n",
              "      <td>Fitness</td>\n",
              "      <td>15.50</td>\n",
              "      <td>250</td>\n",
              "      <td>FitLife Co</td>\n",
              "      <td>2023-02-28</td>\n",
              "    </tr>\n",
              "    <tr>\n",
              "      <th>8</th>\n",
              "      <td>P009</td>\n",
              "      <td>Portable Charger</td>\n",
              "      <td>Electronics</td>\n",
              "      <td>34.99</td>\n",
              "      <td>180</td>\n",
              "      <td>PowerGo Ltd</td>\n",
              "      <td>2023-03-14</td>\n",
              "    </tr>\n",
              "    <tr>\n",
              "      <th>9</th>\n",
              "      <td>P010</td>\n",
              "      <td>Smart Light Bulb</td>\n",
              "      <td>Home</td>\n",
              "      <td>12.99</td>\n",
              "      <td>400</td>\n",
              "      <td>BrightHome Inc</td>\n",
              "      <td>2023-07-22</td>\n",
              "    </tr>\n",
              "    <tr>\n",
              "      <th>10</th>\n",
              "      <td>P011</td>\n",
              "      <td>Waterproof Backpack</td>\n",
              "      <td>Accessories</td>\n",
              "      <td>49.95</td>\n",
              "      <td>120</td>\n",
              "      <td>TrailBlazer Co</td>\n",
              "      <td>2023-08-05</td>\n",
              "    </tr>\n",
              "    <tr>\n",
              "      <th>11</th>\n",
              "      <td>P012</td>\n",
              "      <td>Electric Toothbrush</td>\n",
              "      <td>Health</td>\n",
              "      <td>55.00</td>\n",
              "      <td>90</td>\n",
              "      <td>CleanSmile Ltd</td>\n",
              "      <td>2023-09-12</td>\n",
              "    </tr>\n",
              "    <tr>\n",
              "      <th>12</th>\n",
              "      <td>P013</td>\n",
              "      <td>Running Shoes</td>\n",
              "      <td>Footwear</td>\n",
              "      <td>85.00</td>\n",
              "      <td>60</td>\n",
              "      <td>SprintStep Inc</td>\n",
              "      <td>2023-10-01</td>\n",
              "    </tr>\n",
              "    <tr>\n",
              "      <th>13</th>\n",
              "      <td>P014</td>\n",
              "      <td>Protein Powder</td>\n",
              "      <td>Health</td>\n",
              "      <td>39.99</td>\n",
              "      <td>110</td>\n",
              "      <td>NutriFuel Co</td>\n",
              "      <td>2023-11-05</td>\n",
              "    </tr>\n",
              "    <tr>\n",
              "      <th>14</th>\n",
              "      <td>P015</td>\n",
              "      <td>Wireless Mouse</td>\n",
              "      <td>Electronics</td>\n",
              "      <td>29.99</td>\n",
              "      <td>140</td>\n",
              "      <td>ClickTech Ltd</td>\n",
              "      <td>2023-12-10</td>\n",
              "    </tr>\n",
              "    <tr>\n",
              "      <th>15</th>\n",
              "      <td>P016</td>\n",
              "      <td>Yoga Block</td>\n",
              "      <td>Fitness</td>\n",
              "      <td>12.50</td>\n",
              "      <td>180</td>\n",
              "      <td>FitLife Co</td>\n",
              "      <td>2024-01-08</td>\n",
              "    </tr>\n",
              "    <tr>\n",
              "      <th>16</th>\n",
              "      <td>P017</td>\n",
              "      <td>Smart Thermostat</td>\n",
              "      <td>Home</td>\n",
              "      <td>179.99</td>\n",
              "      <td>25</td>\n",
              "      <td>ClimateSmart Inc</td>\n",
              "      <td>2024-02-14</td>\n",
              "    </tr>\n",
              "    <tr>\n",
              "      <th>17</th>\n",
              "      <td>P018</td>\n",
              "      <td>Desk Lamp</td>\n",
              "      <td>Home</td>\n",
              "      <td>32.49</td>\n",
              "      <td>70</td>\n",
              "      <td>BrightHome Inc</td>\n",
              "      <td>2024-03-01</td>\n",
              "    </tr>\n",
              "    <tr>\n",
              "      <th>18</th>\n",
              "      <td>P019</td>\n",
              "      <td>USB-C Hub</td>\n",
              "      <td>Electronics</td>\n",
              "      <td>39.95</td>\n",
              "      <td>95</td>\n",
              "      <td>ConnectPro Ltd</td>\n",
              "      <td>2024-03-20</td>\n",
              "    </tr>\n",
              "    <tr>\n",
              "      <th>19</th>\n",
              "      <td>P020</td>\n",
              "      <td>Folding Chair</td>\n",
              "      <td>Furniture</td>\n",
              "      <td>44.99</td>\n",
              "      <td>50</td>\n",
              "      <td>ComfySeats Co</td>\n",
              "      <td>2024-04-05</td>\n",
              "    </tr>\n",
              "  </tbody>\n",
              "</table>\n",
              "</div>\n",
              "    <div class=\"colab-df-buttons\">\n",
              "\n",
              "  <div class=\"colab-df-container\">\n",
              "    <button class=\"colab-df-convert\" onclick=\"convertToInteractive('df-4dd288ec-34ad-4f53-9536-f4f6d04e812d')\"\n",
              "            title=\"Convert this dataframe to an interactive table.\"\n",
              "            style=\"display:none;\">\n",
              "\n",
              "  <svg xmlns=\"http://www.w3.org/2000/svg\" height=\"24px\" viewBox=\"0 -960 960 960\">\n",
              "    <path d=\"M120-120v-720h720v720H120Zm60-500h600v-160H180v160Zm220 220h160v-160H400v160Zm0 220h160v-160H400v160ZM180-400h160v-160H180v160Zm440 0h160v-160H620v160ZM180-180h160v-160H180v160Zm440 0h160v-160H620v160Z\"/>\n",
              "  </svg>\n",
              "    </button>\n",
              "\n",
              "  <style>\n",
              "    .colab-df-container {\n",
              "      display:flex;\n",
              "      gap: 12px;\n",
              "    }\n",
              "\n",
              "    .colab-df-convert {\n",
              "      background-color: #E8F0FE;\n",
              "      border: none;\n",
              "      border-radius: 50%;\n",
              "      cursor: pointer;\n",
              "      display: none;\n",
              "      fill: #1967D2;\n",
              "      height: 32px;\n",
              "      padding: 0 0 0 0;\n",
              "      width: 32px;\n",
              "    }\n",
              "\n",
              "    .colab-df-convert:hover {\n",
              "      background-color: #E2EBFA;\n",
              "      box-shadow: 0px 1px 2px rgba(60, 64, 67, 0.3), 0px 1px 3px 1px rgba(60, 64, 67, 0.15);\n",
              "      fill: #174EA6;\n",
              "    }\n",
              "\n",
              "    .colab-df-buttons div {\n",
              "      margin-bottom: 4px;\n",
              "    }\n",
              "\n",
              "    [theme=dark] .colab-df-convert {\n",
              "      background-color: #3B4455;\n",
              "      fill: #D2E3FC;\n",
              "    }\n",
              "\n",
              "    [theme=dark] .colab-df-convert:hover {\n",
              "      background-color: #434B5C;\n",
              "      box-shadow: 0px 1px 3px 1px rgba(0, 0, 0, 0.15);\n",
              "      filter: drop-shadow(0px 1px 2px rgba(0, 0, 0, 0.3));\n",
              "      fill: #FFFFFF;\n",
              "    }\n",
              "  </style>\n",
              "\n",
              "    <script>\n",
              "      const buttonEl =\n",
              "        document.querySelector('#df-4dd288ec-34ad-4f53-9536-f4f6d04e812d button.colab-df-convert');\n",
              "      buttonEl.style.display =\n",
              "        google.colab.kernel.accessAllowed ? 'block' : 'none';\n",
              "\n",
              "      async function convertToInteractive(key) {\n",
              "        const element = document.querySelector('#df-4dd288ec-34ad-4f53-9536-f4f6d04e812d');\n",
              "        const dataTable =\n",
              "          await google.colab.kernel.invokeFunction('convertToInteractive',\n",
              "                                                    [key], {});\n",
              "        if (!dataTable) return;\n",
              "\n",
              "        const docLinkHtml = 'Like what you see? Visit the ' +\n",
              "          '<a target=\"_blank\" href=https://colab.research.google.com/notebooks/data_table.ipynb>data table notebook</a>'\n",
              "          + ' to learn more about interactive tables.';\n",
              "        element.innerHTML = '';\n",
              "        dataTable['output_type'] = 'display_data';\n",
              "        await google.colab.output.renderOutput(dataTable, element);\n",
              "        const docLink = document.createElement('div');\n",
              "        docLink.innerHTML = docLinkHtml;\n",
              "        element.appendChild(docLink);\n",
              "      }\n",
              "    </script>\n",
              "  </div>\n",
              "\n",
              "\n",
              "    <div id=\"df-2613eda8-8e72-4bf1-a798-e742fa4043fc\">\n",
              "      <button class=\"colab-df-quickchart\" onclick=\"quickchart('df-2613eda8-8e72-4bf1-a798-e742fa4043fc')\"\n",
              "                title=\"Suggest charts\"\n",
              "                style=\"display:none;\">\n",
              "\n",
              "<svg xmlns=\"http://www.w3.org/2000/svg\" height=\"24px\"viewBox=\"0 0 24 24\"\n",
              "     width=\"24px\">\n",
              "    <g>\n",
              "        <path d=\"M19 3H5c-1.1 0-2 .9-2 2v14c0 1.1.9 2 2 2h14c1.1 0 2-.9 2-2V5c0-1.1-.9-2-2-2zM9 17H7v-7h2v7zm4 0h-2V7h2v10zm4 0h-2v-4h2v4z\"/>\n",
              "    </g>\n",
              "</svg>\n",
              "      </button>\n",
              "\n",
              "<style>\n",
              "  .colab-df-quickchart {\n",
              "      --bg-color: #E8F0FE;\n",
              "      --fill-color: #1967D2;\n",
              "      --hover-bg-color: #E2EBFA;\n",
              "      --hover-fill-color: #174EA6;\n",
              "      --disabled-fill-color: #AAA;\n",
              "      --disabled-bg-color: #DDD;\n",
              "  }\n",
              "\n",
              "  [theme=dark] .colab-df-quickchart {\n",
              "      --bg-color: #3B4455;\n",
              "      --fill-color: #D2E3FC;\n",
              "      --hover-bg-color: #434B5C;\n",
              "      --hover-fill-color: #FFFFFF;\n",
              "      --disabled-bg-color: #3B4455;\n",
              "      --disabled-fill-color: #666;\n",
              "  }\n",
              "\n",
              "  .colab-df-quickchart {\n",
              "    background-color: var(--bg-color);\n",
              "    border: none;\n",
              "    border-radius: 50%;\n",
              "    cursor: pointer;\n",
              "    display: none;\n",
              "    fill: var(--fill-color);\n",
              "    height: 32px;\n",
              "    padding: 0;\n",
              "    width: 32px;\n",
              "  }\n",
              "\n",
              "  .colab-df-quickchart:hover {\n",
              "    background-color: var(--hover-bg-color);\n",
              "    box-shadow: 0 1px 2px rgba(60, 64, 67, 0.3), 0 1px 3px 1px rgba(60, 64, 67, 0.15);\n",
              "    fill: var(--button-hover-fill-color);\n",
              "  }\n",
              "\n",
              "  .colab-df-quickchart-complete:disabled,\n",
              "  .colab-df-quickchart-complete:disabled:hover {\n",
              "    background-color: var(--disabled-bg-color);\n",
              "    fill: var(--disabled-fill-color);\n",
              "    box-shadow: none;\n",
              "  }\n",
              "\n",
              "  .colab-df-spinner {\n",
              "    border: 2px solid var(--fill-color);\n",
              "    border-color: transparent;\n",
              "    border-bottom-color: var(--fill-color);\n",
              "    animation:\n",
              "      spin 1s steps(1) infinite;\n",
              "  }\n",
              "\n",
              "  @keyframes spin {\n",
              "    0% {\n",
              "      border-color: transparent;\n",
              "      border-bottom-color: var(--fill-color);\n",
              "      border-left-color: var(--fill-color);\n",
              "    }\n",
              "    20% {\n",
              "      border-color: transparent;\n",
              "      border-left-color: var(--fill-color);\n",
              "      border-top-color: var(--fill-color);\n",
              "    }\n",
              "    30% {\n",
              "      border-color: transparent;\n",
              "      border-left-color: var(--fill-color);\n",
              "      border-top-color: var(--fill-color);\n",
              "      border-right-color: var(--fill-color);\n",
              "    }\n",
              "    40% {\n",
              "      border-color: transparent;\n",
              "      border-right-color: var(--fill-color);\n",
              "      border-top-color: var(--fill-color);\n",
              "    }\n",
              "    60% {\n",
              "      border-color: transparent;\n",
              "      border-right-color: var(--fill-color);\n",
              "    }\n",
              "    80% {\n",
              "      border-color: transparent;\n",
              "      border-right-color: var(--fill-color);\n",
              "      border-bottom-color: var(--fill-color);\n",
              "    }\n",
              "    90% {\n",
              "      border-color: transparent;\n",
              "      border-bottom-color: var(--fill-color);\n",
              "    }\n",
              "  }\n",
              "</style>\n",
              "\n",
              "      <script>\n",
              "        async function quickchart(key) {\n",
              "          const quickchartButtonEl =\n",
              "            document.querySelector('#' + key + ' button');\n",
              "          quickchartButtonEl.disabled = true;  // To prevent multiple clicks.\n",
              "          quickchartButtonEl.classList.add('colab-df-spinner');\n",
              "          try {\n",
              "            const charts = await google.colab.kernel.invokeFunction(\n",
              "                'suggestCharts', [key], {});\n",
              "          } catch (error) {\n",
              "            console.error('Error during call to suggestCharts:', error);\n",
              "          }\n",
              "          quickchartButtonEl.classList.remove('colab-df-spinner');\n",
              "          quickchartButtonEl.classList.add('colab-df-quickchart-complete');\n",
              "        }\n",
              "        (() => {\n",
              "          let quickchartButtonEl =\n",
              "            document.querySelector('#df-2613eda8-8e72-4bf1-a798-e742fa4043fc button');\n",
              "          quickchartButtonEl.style.display =\n",
              "            google.colab.kernel.accessAllowed ? 'block' : 'none';\n",
              "        })();\n",
              "      </script>\n",
              "    </div>\n",
              "\n",
              "    </div>\n",
              "  </div>\n"
            ],
            "application/vnd.google.colaboratory.intrinsic+json": {
              "type": "dataframe",
              "variable_name": "df",
              "summary": "{\n  \"name\": \"df\",\n  \"rows\": 50,\n  \"fields\": [\n    {\n      \"column\": \"Product ID\",\n      \"properties\": {\n        \"dtype\": \"string\",\n        \"num_unique_values\": 50,\n        \"samples\": [\n          \"P014\",\n          \"P040\",\n          \"P031\"\n        ],\n        \"semantic_type\": \"\",\n        \"description\": \"\"\n      }\n    },\n    {\n      \"column\": \"Product Name\",\n      \"properties\": {\n        \"dtype\": \"string\",\n        \"num_unique_values\": 50,\n        \"samples\": [\n          \"Protein Powder\",\n          \"Smart Plug\",\n          \"Water Flosser\"\n        ],\n        \"semantic_type\": \"\",\n        \"description\": \"\"\n      }\n    },\n    {\n      \"column\": \"Category\",\n      \"properties\": {\n        \"dtype\": \"category\",\n        \"num_unique_values\": 9,\n        \"samples\": [\n          \"Furniture\",\n          \"Wearables\",\n          \"Health\"\n        ],\n        \"semantic_type\": \"\",\n        \"description\": \"\"\n      }\n    },\n    {\n      \"column\": \"Price\",\n      \"properties\": {\n        \"dtype\": \"number\",\n        \"std\": 64.03224446531065,\n        \"min\": 7.5,\n        \"max\": 299.95,\n        \"num_unique_values\": 44,\n        \"samples\": [\n          24.95,\n          79.99,\n          38.99\n        ],\n        \"semantic_type\": \"\",\n        \"description\": \"\"\n      }\n    },\n    {\n      \"column\": \"Stock\",\n      \"properties\": {\n        \"dtype\": \"number\",\n        \"std\": 102,\n        \"min\": 20,\n        \"max\": 500,\n        \"num_unique_values\": 35,\n        \"samples\": [\n          160,\n          110,\n          100\n        ],\n        \"semantic_type\": \"\",\n        \"description\": \"\"\n      }\n    },\n    {\n      \"column\": \"Supplier\",\n      \"properties\": {\n        \"dtype\": \"string\",\n        \"num_unique_values\": 31,\n        \"samples\": [\n          \"SmartHome Co\",\n          \"ConnectPro Ltd\",\n          \"WeighRight Inc\"\n        ],\n        \"semantic_type\": \"\",\n        \"description\": \"\"\n      }\n    },\n    {\n      \"column\": \"Date Added\",\n      \"properties\": {\n        \"dtype\": \"object\",\n        \"num_unique_values\": 50,\n        \"samples\": [\n          \"2023-11-05\",\n          \"2024-11-08\",\n          \"2024-08-25\"\n        ],\n        \"semantic_type\": \"\",\n        \"description\": \"\"\n      }\n    }\n  ]\n}"
            }
          },
          "metadata": {},
          "execution_count": 29
        }
      ]
    },
    {
      "cell_type": "markdown",
      "source": [
        "Make sure the required column exists"
      ],
      "metadata": {
        "id": "W8HLdngjaFvw"
      }
    },
    {
      "cell_type": "code",
      "source": [
        "if 'Product Name' not in df.columns:\n",
        "  print(f\"Column not found. Columns are:  {list(df.columns)}\")\n",
        "  exit()"
      ],
      "metadata": {
        "id": "b8ba5TJraF79"
      },
      "execution_count": 30,
      "outputs": []
    },
    {
      "cell_type": "markdown",
      "source": [
        "Extract the list of product names"
      ],
      "metadata": {
        "id": "LnsQO_SfaGI1"
      }
    },
    {
      "cell_type": "code",
      "source": [
        "product_names = df['Product Name'].tolist()\n",
        "product_names"
      ],
      "metadata": {
        "id": "m01FINEgaGTM",
        "colab": {
          "base_uri": "https://localhost:8080/"
        },
        "outputId": "686efeab-9d97-488b-e319-8da3b5ce031f"
      },
      "execution_count": 34,
      "outputs": [
        {
          "output_type": "execute_result",
          "data": {
            "text/plain": [
              "['Wireless Earbuds',\n",
              " 'Bluetooth Speaker',\n",
              " 'Smart Watch',\n",
              " 'Yoga Mat',\n",
              " 'Stainless Steel Bottle',\n",
              " 'Laptop Stand',\n",
              " 'Noise-Canceling Headphones',\n",
              " 'Resistance Bands',\n",
              " 'Portable Charger',\n",
              " 'Smart Light Bulb',\n",
              " 'Waterproof Backpack',\n",
              " 'Electric Toothbrush',\n",
              " 'Running Shoes',\n",
              " 'Protein Powder',\n",
              " 'Wireless Mouse',\n",
              " 'Yoga Block',\n",
              " 'Smart Thermostat',\n",
              " 'Desk Lamp',\n",
              " 'USB-C Hub',\n",
              " 'Folding Chair',\n",
              " 'Action Camera',\n",
              " 'Sleep Mask',\n",
              " 'Insulated Mug',\n",
              " 'Wireless Keyboard',\n",
              " 'Fitness Tracker',\n",
              " 'Back Support Cushion',\n",
              " 'Smart Doorbell',\n",
              " 'Electric Kettle',\n",
              " 'Phone Grip',\n",
              " 'LED Strip Lights',\n",
              " 'Water Flosser',\n",
              " 'Mesh Running Shorts',\n",
              " 'Smart Scale',\n",
              " 'Neck Pillow',\n",
              " 'Portable SSD',\n",
              " 'Desk Organizer',\n",
              " 'Metal Water Bottle',\n",
              " 'Wireless Charging Pad',\n",
              " 'Jump Rope',\n",
              " 'Smart Plug',\n",
              " 'Bluetooth Tracker',\n",
              " 'Cooling Towel',\n",
              " 'LED Desk Lamp',\n",
              " 'Wireless Earbuds Pro',\n",
              " 'Posture Corrector',\n",
              " 'Travel Backpack',\n",
              " 'Smart Ring',\n",
              " 'Gaming Mouse',\n",
              " 'Resistance Tube Set',\n",
              " 'Electric Fan']"
            ]
          },
          "metadata": {},
          "execution_count": 34
        }
      ]
    },
    {
      "cell_type": "code",
      "source": [],
      "metadata": {
        "id": "QiqFGwpQkFkw"
      },
      "execution_count": null,
      "outputs": []
    },
    {
      "cell_type": "markdown",
      "source": [
        "Get user search input string"
      ],
      "metadata": {
        "id": "R2-yp2xSaGh6"
      }
    },
    {
      "cell_type": "code",
      "source": [
        "user_input = input('Search products by name:  ').strip()"
      ],
      "metadata": {
        "colab": {
          "base_uri": "https://localhost:8080/"
        },
        "id": "itQUi58Uj-Rq",
        "outputId": "ceaa9dc0-f033-46d2-c4bd-8c0e62264a46"
      },
      "execution_count": 76,
      "outputs": [
        {
          "name": "stdout",
          "output_type": "stream",
          "text": [
            "Search products by name:  smrt\n"
          ]
        }
      ]
    },
    {
      "cell_type": "markdown",
      "source": [
        "Check for no input"
      ],
      "metadata": {
        "id": "SidrnALVajuU"
      }
    },
    {
      "cell_type": "code",
      "source": [
        "if not user_input:\n",
        "  print(f\"No input provided.\")\n",
        "  exit()"
      ],
      "metadata": {
        "id": "M_cVCsvPaGsd"
      },
      "execution_count": 77,
      "outputs": []
    },
    {
      "cell_type": "markdown",
      "source": [
        "Find the best match We'll use a score cutoff of 60 — adjust higher for stricter matching"
      ],
      "metadata": {
        "id": "W5L-dQydawUZ"
      }
    },
    {
      "cell_type": "code",
      "source": [
        "result = process.extractOne(user_input, product_names, score_cutoff=60)"
      ],
      "metadata": {
        "id": "yxlZZ-Xkawgt"
      },
      "execution_count": 78,
      "outputs": []
    },
    {
      "cell_type": "code",
      "source": [
        "if result:\n",
        "  best_match, score, index = result\n",
        "  matched_product = df.iloc[index]\n",
        "  print(\"\\n☑️  Best Match Found:  \")\n",
        "  print(f\" Product:  {matched_product['Product Name']}\")\n",
        "  print(f\" ID:  {matched_product['Product ID']}\")\n",
        "  print(f\" Categoy:  {matched_product['Category']}\")\n",
        "  print(f\" Price:  {matched_product['Price']}\")\n",
        "  print(f\" Stock:  {matched_product['Stock']}\")\n",
        "  print(f\" Supplier:  {matched_product['Supplier']}\")\n",
        "\n",
        "else:\n",
        "  print(f\"\\n✖️ No close match found for '{user_input}\")\n"
      ],
      "metadata": {
        "id": "QVXjUmn-aw2W",
        "colab": {
          "base_uri": "https://localhost:8080/"
        },
        "outputId": "ed3d6f6b-6bda-438d-8f09-31201c8a3ea5"
      },
      "execution_count": 79,
      "outputs": [
        {
          "output_type": "stream",
          "name": "stdout",
          "text": [
            "\n",
            "☑️  Best Match Found:  \n",
            " Product:  Smart Watch\n",
            " ID:  P003\n",
            " Categoy:  Wearables\n",
            " Price:  199.99\n",
            " Stock:  40\n",
            " Supplier:  TimeTech Corp\n"
          ]
        }
      ]
    },
    {
      "cell_type": "markdown",
      "source": [
        "List other suggestions"
      ],
      "metadata": {
        "id": "vHq1sOrmawsJ"
      }
    },
    {
      "cell_type": "code",
      "source": [
        "suggestions = process.extract(user_input, product_names, limit=3)\n",
        "if suggestions:\n",
        "  print(\"\\n Did you possbily mean?\")\n",
        "  for sugg, sugg_score, _ in suggestions:\n",
        "        print(f\" {sugg} (similarity: {sugg_score:.1f})\")"
      ],
      "metadata": {
        "colab": {
          "base_uri": "https://localhost:8080/"
        },
        "id": "rcV8R_ACl7bb",
        "outputId": "a3ca97a6-0599-4350-8a4e-32b684d0d34f"
      },
      "execution_count": 81,
      "outputs": [
        {
          "output_type": "stream",
          "name": "stdout",
          "text": [
            "\n",
            " Did you possbily mean?\n",
            " Smart Watch (similarity: 67.5)\n",
            " Smart Light Bulb (similarity: 67.5)\n",
            " Smart Thermostat (similarity: 67.5)\n"
          ]
        }
      ]
    }
  ]
}