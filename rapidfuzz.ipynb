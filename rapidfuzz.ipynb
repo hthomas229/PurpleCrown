{
  "nbformat": 4,
  "nbformat_minor": 0,
  "metadata": {
    "colab": {
      "provenance": [],
      "authorship_tag": "ABX9TyPjED+Ee3LOH1Zv8FX80kZD",
      "include_colab_link": true
    },
    "kernelspec": {
      "name": "python3",
      "display_name": "Python 3"
    },
    "language_info": {
      "name": "python"
    }
  },
  "cells": [
    {
      "cell_type": "markdown",
      "metadata": {
        "id": "view-in-github",
        "colab_type": "text"
      },
      "source": [
        "<a href=\"https://colab.research.google.com/github/hthomas229/PurpleCrown/blob/main/rapidfuzz.ipynb\" target=\"_parent\"><img src=\"https://colab.research.google.com/assets/colab-badge.svg\" alt=\"Open In Colab\"/></a>"
      ]
    },
    {
      "cell_type": "code",
      "source": [
        "!pip install rapidfuzz\n"
      ],
      "metadata": {
        "colab": {
          "base_uri": "https://localhost:8080/"
        },
        "id": "9el5LsHTIDOZ",
        "outputId": "96b1d002-2ac5-4a25-ce1d-5b2119c46c66"
      },
      "execution_count": 28,
      "outputs": [
        {
          "output_type": "stream",
          "name": "stdout",
          "text": [
            "Requirement already satisfied: rapidfuzz in /usr/local/lib/python3.11/dist-packages (3.13.0)\n"
          ]
        }
      ]
    },
    {
      "cell_type": "markdown",
      "source": [
        "#Search Database User input"
      ],
      "metadata": {
        "id": "VJ19OLzyUhJn"
      }
    },
    {
      "cell_type": "code",
      "source": [
        "import pandas as pd\n",
        "from rapidfuzz import fuzz, process\n",
        "import os"
      ],
      "metadata": {
        "id": "7EiZZeghIXVG"
      },
      "execution_count": 29,
      "outputs": []
    },
    {
      "cell_type": "code",
      "source": [
        "CSV_FILE ='/content/products.csv'"
      ],
      "metadata": {
        "id": "AuvGaQ-2fP9x"
      },
      "execution_count": 30,
      "outputs": []
    },
    {
      "cell_type": "markdown",
      "source": [
        "Make sure file exists\n"
      ],
      "metadata": {
        "id": "SF984eGegJxp"
      }
    },
    {
      "cell_type": "code",
      "source": [
        "if not os.path.exists(CSV_FILE):\n",
        "  print({f\"✖️ {CSV_FILE} not found. Please make sure the file exists.\"})\n",
        "  exit()"
      ],
      "metadata": {
        "id": "T4G5OEoDhUNa"
      },
      "execution_count": 31,
      "outputs": []
    },
    {
      "cell_type": "markdown",
      "source": [
        "Transform the csv into a Pandas Dataframe\n"
      ],
      "metadata": {
        "id": "9VuIMsx9hqIX"
      }
    },
    {
      "cell_type": "code",
      "source": [
        "try:\n",
        "  df = pd.read_csv(CSV_FILE)\n",
        "except  Exception as e:\n",
        "  print(f\"✖️ Error reaeding CSV: {e}\")\n",
        "\n"
      ],
      "metadata": {
        "id": "Z70-6HMsgvT-"
      },
      "execution_count": 32,
      "outputs": []
    },
    {
      "cell_type": "markdown",
      "source": [
        "\n",
        "check for the required column"
      ],
      "metadata": {
        "id": "6psACC7OmU4b"
      }
    },
    {
      "cell_type": "code",
      "source": [
        "if 'product_name' not in df.columns:\n",
        "  print(f\"✖️ Column not found in CSV. Columns: {list(df.columns)}\")\n",
        "  exit()"
      ],
      "metadata": {
        "id": "bZKYJgL2i7ch"
      },
      "execution_count": 33,
      "outputs": []
    },
    {
      "cell_type": "markdown",
      "source": [
        "Extract the list of product names"
      ],
      "metadata": {
        "id": "FHtH939XoKLV"
      }
    },
    {
      "cell_type": "code",
      "source": [
        "product_names = df['product_name'].tolist()\n"
      ],
      "metadata": {
        "id": "ZM88wyYunzl7"
      },
      "execution_count": 34,
      "outputs": []
    },
    {
      "cell_type": "code",
      "source": [],
      "metadata": {
        "id": "IM7IvEOtQcK0"
      },
      "execution_count": 34,
      "outputs": []
    },
    {
      "cell_type": "code",
      "source": [
        "print(f\"☑️ Product database loaded.\")\n",
        "print(f\"Available products: {', '.join(product_names)}\\n\")"
      ],
      "metadata": {
        "id": "m-o3IXWrnz9Z",
        "colab": {
          "base_uri": "https://localhost:8080/"
        },
        "outputId": "d4999228-e382-4b1f-b59a-510793c63cfe"
      },
      "execution_count": 35,
      "outputs": [
        {
          "output_type": "stream",
          "name": "stdout",
          "text": [
            "☑️ Product database loaded.\n",
            "Available products: iPhone 15 Pro, Samsung Galaxy S24, Google Pixel 8, MacBook Pro, Dell XPS 13, Sony WH-1000XM5, Apple AirPods Pro\n",
            "\n"
          ]
        }
      ]
    },
    {
      "cell_type": "code",
      "source": [
        "user_input = input('Search products by name: ').strip()"
      ],
      "metadata": {
        "id": "NcEJZRzLn0IZ",
        "colab": {
          "base_uri": "https://localhost:8080/"
        },
        "outputId": "992cad8a-c16b-4e57-b0a5-7fee63fc4d05"
      },
      "execution_count": 36,
      "outputs": [
        {
          "name": "stdout",
          "output_type": "stream",
          "text": [
            "Search products by name: mac\n"
          ]
        }
      ]
    },
    {
      "cell_type": "code",
      "source": [
        "if not user_input:\n",
        "  print(f\"✖️ No input provided.\")\n",
        "  exit()"
      ],
      "metadata": {
        "id": "Pzvo-5uoP_rY"
      },
      "execution_count": 37,
      "outputs": []
    },
    {
      "cell_type": "markdown",
      "source": [
        " 🔎 Find the best match\n",
        "We'll use a score cutoff of 60 — adjust higher for stricter matching"
      ],
      "metadata": {
        "id": "B0DbaHuGQc_3"
      }
    },
    {
      "cell_type": "code",
      "source": [
        "result = process.extractOne(user_input, product_names, score_cutoff=60)"
      ],
      "metadata": {
        "id": "IBP2-hU6QANz"
      },
      "execution_count": 38,
      "outputs": []
    },
    {
      "cell_type": "code",
      "source": [
        "if result:\n",
        "  best_match, score, index = result\n",
        "  matched_product = df.iloc[index]\n",
        "  print(\"\\n☑️  Best Match Found:  \")\n",
        "  print(f\" Product:  {matched_product['product_name']}\")\n",
        "  print(f\" ID:  {matched_product['product_name']}\")\n",
        "  print(f\" Price:  {matched_product['product_name']}\")\n",
        "  print(f\" Confidence:  {score:.1f}/100\")\n",
        "else:\n",
        "  print(f\"\\n✖️ No close mat5ch found for '{user_input}\")"
      ],
      "metadata": {
        "colab": {
          "base_uri": "https://localhost:8080/"
        },
        "id": "oGtBd8hCQAal",
        "outputId": "3b9d3412-698e-4bee-a19b-085eff74d5b1"
      },
      "execution_count": 39,
      "outputs": [
        {
          "output_type": "stream",
          "name": "stdout",
          "text": [
            "\n",
            "☑️  Best Match Found:  \n",
            " Product:  MacBook Pro\n",
            " ID:  MacBook Pro\n",
            " Price:  MacBook Pro\n",
            " Confidence:  60.0/100\n"
          ]
        }
      ]
    },
    {
      "cell_type": "code",
      "source": [
        "  suggestions = process.extract(user_input, product_names, limit=3)\n",
        "  if suggestions:\n",
        "        print(\"\\n💡 Did you mean?\")\n",
        "        for sugg, sugg_score, _ in suggestions:\n",
        "            print(f\"  • {sugg} (similarity: {sugg_score:.1f})\")"
      ],
      "metadata": {
        "colab": {
          "base_uri": "https://localhost:8080/"
        },
        "id": "hCj5W48eSuKc",
        "outputId": "0f6366e9-8bc8-4b0a-e921-ac2af51545b3"
      },
      "execution_count": 40,
      "outputs": [
        {
          "output_type": "stream",
          "name": "stdout",
          "text": [
            "\n",
            "💡 Did you mean?\n",
            "  • MacBook Pro (similarity: 60.0)\n",
            "  • Samsung Galaxy S24 (similarity: 36.0)\n",
            "  • iPhone 15 Pro (similarity: 0.0)\n"
          ]
        }
      ]
    },
    {
      "cell_type": "markdown",
      "source": [
        "#Basic Usage"
      ],
      "metadata": {
        "id": "k6jQLY6iUXpT"
      }
    },
    {
      "cell_type": "code",
      "source": [
        "str1= 'hello'\n",
        "str2 = 'hallo'\n"
      ],
      "metadata": {
        "id": "SZ8y136dTyHh"
      },
      "execution_count": 41,
      "outputs": []
    },
    {
      "cell_type": "code",
      "source": [],
      "metadata": {
        "id": "D3yTEF4xUcfi"
      },
      "execution_count": null,
      "outputs": []
    },
    {
      "cell_type": "code",
      "source": [
        "result=fuzz.ratio(str1,str2)"
      ],
      "metadata": {
        "id": "tUXXlG2cTySp"
      },
      "execution_count": 43,
      "outputs": []
    },
    {
      "cell_type": "code",
      "source": [],
      "metadata": {
        "id": "gycM10kNTyXs"
      },
      "execution_count": null,
      "outputs": []
    },
    {
      "cell_type": "code",
      "source": [],
      "metadata": {
        "id": "ABfRWQr9Tya3"
      },
      "execution_count": null,
      "outputs": []
    },
    {
      "cell_type": "code",
      "source": [],
      "metadata": {
        "id": "pFauqhFTTyd3"
      },
      "execution_count": null,
      "outputs": []
    },
    {
      "cell_type": "code",
      "source": [],
      "metadata": {
        "id": "4i-wdS7dTyhi"
      },
      "execution_count": null,
      "outputs": []
    }
  ]
}